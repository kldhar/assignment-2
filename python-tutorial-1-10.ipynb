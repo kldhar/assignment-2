{
 "cells": [
  {
   "cell_type": "code",
   "execution_count": 1,
   "id": "688ed8a9",
   "metadata": {},
   "outputs": [
    {
     "name": "stdout",
     "output_type": "stream",
     "text": [
      "Hello, World!\n",
      "Good Bye!\n"
     ]
    }
   ],
   "source": [
    "message = 'Hello, World!'\n",
    "print(message)\n",
    "\n",
    "message = 'Good Bye!'\n",
    "print(message)"
   ]
  },
  {
   "cell_type": "code",
   "execution_count": 2,
   "id": "a281b5c4",
   "metadata": {},
   "outputs": [],
   "source": [
    "counter = 1"
   ]
  },
  {
   "cell_type": "code",
   "execution_count": 3,
   "id": "5e2bb0cd",
   "metadata": {},
   "outputs": [],
   "source": [
    "message = 'This is a string in Python'\n",
    "message = \"This is also a string\""
   ]
  },
  {
   "cell_type": "code",
   "execution_count": 4,
   "id": "a80adff2",
   "metadata": {},
   "outputs": [],
   "source": [
    "message = \"It's a string\""
   ]
  },
  {
   "cell_type": "code",
   "execution_count": 5,
   "id": "394fa5fd",
   "metadata": {},
   "outputs": [],
   "source": [
    "message = '\"Beautiful is better than ugly.\". Said Tim Peters'"
   ]
  },
  {
   "cell_type": "code",
   "execution_count": 6,
   "id": "beceba93",
   "metadata": {},
   "outputs": [],
   "source": [
    "message = 'It\\'s also a valid string'"
   ]
  },
  {
   "cell_type": "code",
   "execution_count": 7,
   "id": "aa36d63e",
   "metadata": {},
   "outputs": [],
   "source": [
    "message = r'C:\\python\\bin'"
   ]
  },
  {
   "cell_type": "code",
   "execution_count": 8,
   "id": "54016c88",
   "metadata": {},
   "outputs": [
    {
     "name": "stdout",
     "output_type": "stream",
     "text": [
      "\n",
      "Usage: mysql command\n",
      "    -h hostname     \n",
      "    -d database name\n",
      "    -u username\n",
      "    -p password \n",
      "\n"
     ]
    }
   ],
   "source": [
    "help_message = '''\n",
    "Usage: mysql command\n",
    "    -h hostname     \n",
    "    -d database name\n",
    "    -u username\n",
    "    -p password \n",
    "'''\n",
    "\n",
    "print(help_message)"
   ]
  },
  {
   "cell_type": "code",
   "execution_count": 9,
   "id": "9ef8af60",
   "metadata": {},
   "outputs": [],
   "source": [
    "name = 'Lakshmidhar'\n",
    "message = 'Hi'"
   ]
  },
  {
   "cell_type": "code",
   "execution_count": 10,
   "id": "e903e3f4",
   "metadata": {},
   "outputs": [
    {
     "name": "stdout",
     "output_type": "stream",
     "text": [
      "Hi Lakshmidhar\n"
     ]
    }
   ],
   "source": [
    "name = 'Lakshmidhar'\n",
    "message = f'Hi {name}'\n",
    "print(message)"
   ]
  },
  {
   "cell_type": "code",
   "execution_count": 11,
   "id": "9b0d602c",
   "metadata": {},
   "outputs": [
    {
     "name": "stdout",
     "output_type": "stream",
     "text": [
      "Good Morning!\n"
     ]
    }
   ],
   "source": [
    "greeting = 'Good ' 'Morning!'\n",
    "print(greeting)"
   ]
  },
  {
   "cell_type": "code",
   "execution_count": 12,
   "id": "4e922cc5",
   "metadata": {},
   "outputs": [
    {
     "name": "stdout",
     "output_type": "stream",
     "text": [
      "Good Afternoon!\n"
     ]
    }
   ],
   "source": [
    "greeting = 'Good '\n",
    "time = 'Afternoon'\n",
    "\n",
    "greeting = greeting + time + '!'\n",
    "print(greeting)"
   ]
  },
  {
   "cell_type": "code",
   "execution_count": 13,
   "id": "01ddc406",
   "metadata": {},
   "outputs": [
    {
     "name": "stdout",
     "output_type": "stream",
     "text": [
      "P\n",
      "y\n"
     ]
    }
   ],
   "source": [
    "str = \"Python String\"\n",
    "print(str[0]) \n",
    "print(str[1]) "
   ]
  },
  {
   "cell_type": "code",
   "execution_count": 14,
   "id": "a94fb9af",
   "metadata": {},
   "outputs": [
    {
     "name": "stdout",
     "output_type": "stream",
     "text": [
      "g\n",
      "n\n"
     ]
    }
   ],
   "source": [
    "str = \"Python String\"\n",
    "print(str[-1])  # g\n",
    "print(str[-2])  # n"
   ]
  },
  {
   "cell_type": "code",
   "execution_count": 15,
   "id": "1fbfc345",
   "metadata": {},
   "outputs": [
    {
     "name": "stdout",
     "output_type": "stream",
     "text": [
      "13\n"
     ]
    }
   ],
   "source": [
    "str = \"Python String\"\n",
    "str_len = len(str)\n",
    "print(str_len)"
   ]
  },
  {
   "cell_type": "code",
   "execution_count": 16,
   "id": "3304a235",
   "metadata": {},
   "outputs": [
    {
     "name": "stdout",
     "output_type": "stream",
     "text": [
      "Py\n"
     ]
    }
   ],
   "source": [
    "str = \"Python String\"\n",
    "print(str[0:2])"
   ]
  },
  {
   "cell_type": "code",
   "execution_count": 17,
   "id": "e0e3aea2",
   "metadata": {},
   "outputs": [
    {
     "ename": "TypeError",
     "evalue": "'str' object does not support item assignment",
     "output_type": "error",
     "traceback": [
      "\u001b[1;31m---------------------------------------------------------------------------\u001b[0m",
      "\u001b[1;31mTypeError\u001b[0m                                 Traceback (most recent call last)",
      "\u001b[1;32mc:\\Users\\Lakshmidhar Kotipall\\OneDrive - Umich\\Desktop\\Master's\\Pattern recognition and neural networks\\Assignments\\HW2\\python-tutorial-1-10.ipynb Cell 17\u001b[0m line \u001b[0;36m<cell line: 2>\u001b[1;34m()\u001b[0m\n\u001b[0;32m      <a href='vscode-notebook-cell:/c%3A/Users/Lakshmidhar%20Kotipall/OneDrive%20-%20Umich/Desktop/Master%27s/Pattern%20recognition%20and%20neural%20networks/Assignments/HW2/python-tutorial-1-10.ipynb#X22sZmlsZQ%3D%3D?line=0'>1</a>\u001b[0m \u001b[39mstr\u001b[39m \u001b[39m=\u001b[39m \u001b[39m\"\u001b[39m\u001b[39mPython String\u001b[39m\u001b[39m\"\u001b[39m\n\u001b[1;32m----> <a href='vscode-notebook-cell:/c%3A/Users/Lakshmidhar%20Kotipall/OneDrive%20-%20Umich/Desktop/Master%27s/Pattern%20recognition%20and%20neural%20networks/Assignments/HW2/python-tutorial-1-10.ipynb#X22sZmlsZQ%3D%3D?line=1'>2</a>\u001b[0m \u001b[39mstr\u001b[39m[\u001b[39m0\u001b[39m] \u001b[39m=\u001b[39m \u001b[39m'\u001b[39m\u001b[39mJ\u001b[39m\u001b[39m'\u001b[39m\n",
      "\u001b[1;31mTypeError\u001b[0m: 'str' object does not support item assignment"
     ]
    }
   ],
   "source": [
    "str = \"Python String\"\n",
    "str[0] = 'J'"
   ]
  },
  {
   "cell_type": "code",
   "execution_count": 18,
   "id": "a0863c66",
   "metadata": {},
   "outputs": [
    {
     "name": "stdout",
     "output_type": "stream",
     "text": [
      "Jython String\n"
     ]
    }
   ],
   "source": [
    "str = \"Python String\"\n",
    "new_str = 'J' + str[1:]\n",
    "print(new_str)"
   ]
  },
  {
   "cell_type": "code",
   "execution_count": 19,
   "id": "240737f9",
   "metadata": {},
   "outputs": [],
   "source": [
    "count = 10000000000"
   ]
  },
  {
   "cell_type": "code",
   "execution_count": 20,
   "id": "46aec91b",
   "metadata": {},
   "outputs": [
    {
     "name": "stdout",
     "output_type": "stream",
     "text": [
      "10000000000\n"
     ]
    }
   ],
   "source": [
    "count = 10_000_000_000\n",
    "print(count)"
   ]
  },
  {
   "cell_type": "code",
   "execution_count": 21,
   "id": "2e8a45f7",
   "metadata": {},
   "outputs": [],
   "source": [
    "is_active = True\n",
    "is_admin = False"
   ]
  },
  {
   "cell_type": "code",
   "execution_count": 22,
   "id": "6f79fd12",
   "metadata": {},
   "outputs": [],
   "source": [
    "FILE_SIZE_LIMIT = 2000"
   ]
  },
  {
   "cell_type": "code",
   "execution_count": 23,
   "id": "55712caf",
   "metadata": {},
   "outputs": [
    {
     "name": "stdout",
     "output_type": "stream",
     "text": [
      "100\n"
     ]
    }
   ],
   "source": [
    "value = input('Enter a value:')\n",
    "print(value)"
   ]
  },
  {
   "cell_type": "code",
   "execution_count": 24,
   "id": "05bbef0f",
   "metadata": {},
   "outputs": [
    {
     "ename": "TypeError",
     "evalue": "can't multiply sequence by non-int of type 'str'",
     "output_type": "error",
     "traceback": [
      "\u001b[1;31m---------------------------------------------------------------------------\u001b[0m",
      "\u001b[1;31mTypeError\u001b[0m                                 Traceback (most recent call last)",
      "\u001b[1;32mc:\\Users\\Lakshmidhar Kotipall\\OneDrive - Umich\\Desktop\\Master's\\Pattern recognition and neural networks\\Assignments\\HW2\\python-tutorial-1-10.ipynb Cell 24\u001b[0m line \u001b[0;36m<cell line: 4>\u001b[1;34m()\u001b[0m\n\u001b[0;32m      <a href='vscode-notebook-cell:/c%3A/Users/Lakshmidhar%20Kotipall/OneDrive%20-%20Umich/Desktop/Master%27s/Pattern%20recognition%20and%20neural%20networks/Assignments/HW2/python-tutorial-1-10.ipynb#X32sZmlsZQ%3D%3D?line=0'>1</a>\u001b[0m price \u001b[39m=\u001b[39m \u001b[39minput\u001b[39m(\u001b[39m'\u001b[39m\u001b[39mEnter the price ($):\u001b[39m\u001b[39m'\u001b[39m)\n\u001b[0;32m      <a href='vscode-notebook-cell:/c%3A/Users/Lakshmidhar%20Kotipall/OneDrive%20-%20Umich/Desktop/Master%27s/Pattern%20recognition%20and%20neural%20networks/Assignments/HW2/python-tutorial-1-10.ipynb#X32sZmlsZQ%3D%3D?line=1'>2</a>\u001b[0m tax \u001b[39m=\u001b[39m \u001b[39minput\u001b[39m(\u001b[39m'\u001b[39m\u001b[39mEnter the tax rate (\u001b[39m\u001b[39m%\u001b[39m\u001b[39m):\u001b[39m\u001b[39m'\u001b[39m)\n\u001b[1;32m----> <a href='vscode-notebook-cell:/c%3A/Users/Lakshmidhar%20Kotipall/OneDrive%20-%20Umich/Desktop/Master%27s/Pattern%20recognition%20and%20neural%20networks/Assignments/HW2/python-tutorial-1-10.ipynb#X32sZmlsZQ%3D%3D?line=3'>4</a>\u001b[0m net_price \u001b[39m=\u001b[39m price \u001b[39m*\u001b[39;49m tax \u001b[39m/\u001b[39m \u001b[39m100\u001b[39m\n\u001b[0;32m      <a href='vscode-notebook-cell:/c%3A/Users/Lakshmidhar%20Kotipall/OneDrive%20-%20Umich/Desktop/Master%27s/Pattern%20recognition%20and%20neural%20networks/Assignments/HW2/python-tutorial-1-10.ipynb#X32sZmlsZQ%3D%3D?line=5'>6</a>\u001b[0m \u001b[39mprint\u001b[39m(\u001b[39mf\u001b[39m\u001b[39m'\u001b[39m\u001b[39mThe net price is $\u001b[39m\u001b[39m{\u001b[39;00mnet_price\u001b[39m}\u001b[39;00m\u001b[39m'\u001b[39m)\n",
      "\u001b[1;31mTypeError\u001b[0m: can't multiply sequence by non-int of type 'str'"
     ]
    }
   ],
   "source": [
    "price = input('Enter the price ($):')\n",
    "tax = input('Enter the tax rate (%):')\n",
    "\n",
    "net_price = price * tax / 100\n",
    "\n",
    "print(f'The net price is ${net_price}')"
   ]
  },
  {
   "cell_type": "code",
   "execution_count": 25,
   "id": "91353d2a",
   "metadata": {},
   "outputs": [
    {
     "name": "stdout",
     "output_type": "stream",
     "text": [
      "The net price is $18.0\n"
     ]
    }
   ],
   "source": [
    "price = input('Enter the price ($):')\n",
    "tax = input('Enter the tax rate (%):')\n",
    "\n",
    "net_price = int(price) * int(tax) / 100\n",
    "print(f'The net price is ${net_price}')"
   ]
  },
  {
   "cell_type": "code",
   "execution_count": 26,
   "id": "08bcc479",
   "metadata": {},
   "outputs": [
    {
     "name": "stdout",
     "output_type": "stream",
     "text": [
      "You're eligible to vote.\n"
     ]
    }
   ],
   "source": [
    "age = input('Enter your age:')\n",
    "if int(age) >= 18:\n",
    "    print(\"You're eligible to vote.\")"
   ]
  },
  {
   "cell_type": "code",
   "execution_count": 27,
   "id": "919b207b",
   "metadata": {},
   "outputs": [
    {
     "name": "stdout",
     "output_type": "stream",
     "text": [
      "You're eligible to vote.\n",
      "Let's go and vote.\n"
     ]
    }
   ],
   "source": [
    "age = input('Enter your age:')\n",
    "if int(age) >= 18:\n",
    "    print(\"You're eligible to vote.\")\n",
    "    print(\"Let's go and vote.\")\n",
    "    "
   ]
  },
  {
   "cell_type": "code",
   "execution_count": 28,
   "id": "cca85969",
   "metadata": {},
   "outputs": [
    {
     "name": "stdout",
     "output_type": "stream",
     "text": [
      "Let's go and vote.\n"
     ]
    }
   ],
   "source": [
    "age = input('Enter your age:')\n",
    "if int(age) >= 18:\n",
    "    print(\"You're eligible to vote.\")\n",
    "print(\"Let's go and vote.\")\n"
   ]
  },
  {
   "cell_type": "code",
   "execution_count": 29,
   "id": "3a85faf6",
   "metadata": {},
   "outputs": [
    {
     "name": "stdout",
     "output_type": "stream",
     "text": [
      "You're eligible to vote.\n"
     ]
    }
   ],
   "source": [
    "age = input('Enter your age:')\n",
    "if int(age) >= 18:\n",
    "    print(\"You're eligible to vote.\")\n",
    "else:\n",
    "    print(\"You're not eligible to vote.\")"
   ]
  },
  {
   "cell_type": "code",
   "execution_count": 30,
   "id": "d93cb54c",
   "metadata": {},
   "outputs": [
    {
     "name": "stdout",
     "output_type": "stream",
     "text": [
      "You'll pay $18 for the ticket\n"
     ]
    }
   ],
   "source": [
    "age = input('Enter your age:')\n",
    "\n",
    "your_age = int(age)\n",
    "\n",
    "if your_age < 5:\n",
    "    ticket_price = 5\n",
    "elif your_age < 16:\n",
    "    ticket_price = 10\n",
    "else:\n",
    "    ticket_price = 18\n",
    "\n",
    "print(f\"You'll pay ${ticket_price} for the ticket\")\n"
   ]
  },
  {
   "cell_type": "code",
   "execution_count": 31,
   "id": "449f0a1b",
   "metadata": {},
   "outputs": [
    {
     "name": "stdout",
     "output_type": "stream",
     "text": [
      "The ticket price is 20\n"
     ]
    }
   ],
   "source": [
    "age = input('Enter your age:')\n",
    "\n",
    "if int(age) >= 18:\n",
    "    ticket_price = 20\n",
    "else:\n",
    "    ticket_price = 5\n",
    "\n",
    "print(f\"The ticket price is {ticket_price}\")"
   ]
  },
  {
   "cell_type": "code",
   "execution_count": 32,
   "id": "2f5cdb65",
   "metadata": {},
   "outputs": [],
   "source": [
    "if int(age) >= 18:\n",
    "    ticket_price = 20\n",
    "else:\n",
    "    ticket_price = 5"
   ]
  },
  {
   "cell_type": "code",
   "execution_count": 33,
   "id": "87d44848",
   "metadata": {},
   "outputs": [],
   "source": [
    "ticket_price = 20 if int(age) >= 18 else 5"
   ]
  },
  {
   "cell_type": "code",
   "execution_count": 34,
   "id": "63329880",
   "metadata": {},
   "outputs": [
    {
     "name": "stdout",
     "output_type": "stream",
     "text": [
      "The ticket price is 20\n"
     ]
    }
   ],
   "source": [
    "age = input('Enter your age:')\n",
    "\n",
    "ticket_price = 20 if int(age) >= 18 else 5\n",
    "\n",
    "print(f\"The ticket price is {ticket_price}\")"
   ]
  },
  {
   "cell_type": "code",
   "execution_count": 35,
   "id": "526c4e96",
   "metadata": {},
   "outputs": [
    {
     "name": "stdout",
     "output_type": "stream",
     "text": [
      "0\n",
      "1\n",
      "2\n",
      "3\n",
      "4\n"
     ]
    }
   ],
   "source": [
    "for index in range(5):\n",
    "    print(index)\n",
    "    "
   ]
  },
  {
   "cell_type": "code",
   "execution_count": 36,
   "id": "93545c92",
   "metadata": {},
   "outputs": [
    {
     "name": "stdout",
     "output_type": "stream",
     "text": [
      "1\n",
      "2\n",
      "3\n",
      "4\n",
      "5\n"
     ]
    }
   ],
   "source": [
    "for index in range(5):\n",
    "    print(index + 1)"
   ]
  },
  {
   "cell_type": "code",
   "execution_count": 37,
   "id": "5a828557",
   "metadata": {},
   "outputs": [
    {
     "name": "stdout",
     "output_type": "stream",
     "text": [
      "1\n",
      "2\n",
      "3\n",
      "4\n",
      "5\n"
     ]
    }
   ],
   "source": [
    "for index in range(1, 6):\n",
    "    print(index)"
   ]
  },
  {
   "cell_type": "code",
   "execution_count": 38,
   "id": "aadb3d2d",
   "metadata": {},
   "outputs": [
    {
     "name": "stdout",
     "output_type": "stream",
     "text": [
      "0\n",
      "2\n",
      "4\n",
      "6\n",
      "8\n",
      "10\n"
     ]
    }
   ],
   "source": [
    "for index in range(0, 11, 2):\n",
    "    print(index)"
   ]
  },
  {
   "cell_type": "code",
   "execution_count": 39,
   "id": "5cd85b55",
   "metadata": {},
   "outputs": [
    {
     "name": "stdout",
     "output_type": "stream",
     "text": [
      "5050\n"
     ]
    }
   ],
   "source": [
    "sum = 0\n",
    "for num in range(101):\n",
    "    sum += num\n",
    "\n",
    "print(sum)"
   ]
  },
  {
   "cell_type": "code",
   "execution_count": 40,
   "id": "0f6d25c8",
   "metadata": {},
   "outputs": [
    {
     "name": "stdout",
     "output_type": "stream",
     "text": [
      "5050.0\n"
     ]
    }
   ],
   "source": [
    "n = 100\n",
    "sum = n * (n+1)/2\n",
    "print(sum)"
   ]
  },
  {
   "cell_type": "code",
   "execution_count": 41,
   "id": "85e40503",
   "metadata": {},
   "outputs": [
    {
     "name": "stdout",
     "output_type": "stream",
     "text": [
      "0\n",
      "1\n",
      "2\n",
      "3\n",
      "4\n"
     ]
    }
   ],
   "source": [
    "max = 5\n",
    "counter = 0\n",
    "\n",
    "while counter < max:\n",
    "    print(counter)\n",
    "    counter += 1"
   ]
  },
  {
   "cell_type": "code",
   "execution_count": 42,
   "id": "4a26338b",
   "metadata": {},
   "outputs": [
    {
     "name": "stdout",
     "output_type": "stream",
     "text": [
      "Echo: quit\n"
     ]
    }
   ],
   "source": [
    "command = ''\n",
    "\n",
    "while command.lower() != 'quit':\n",
    "    command = input('>')\n",
    "    print(f\"Echo: {command}\")\n"
   ]
  },
  {
   "cell_type": "code",
   "execution_count": 43,
   "id": "69d8139b",
   "metadata": {},
   "outputs": [
    {
     "name": "stdout",
     "output_type": "stream",
     "text": [
      "0\n",
      "1\n",
      "2\n",
      "3\n"
     ]
    }
   ],
   "source": [
    "for index in range(0, 10):\n",
    "    print(index)\n",
    "    if index == 3:\n",
    "        break"
   ]
  },
  {
   "cell_type": "code",
   "execution_count": 44,
   "id": "52cf0f6d",
   "metadata": {},
   "outputs": [
    {
     "name": "stdout",
     "output_type": "stream",
     "text": [
      "(0,0)\n",
      "(0,1)\n",
      "(1,0)\n",
      "(1,1)\n",
      "(2,0)\n",
      "(2,1)\n",
      "(3,0)\n",
      "(3,1)\n",
      "(4,0)\n",
      "(4,1)\n"
     ]
    }
   ],
   "source": [
    "for x in range(5):\n",
    "    for y in range(5):\n",
    "        # terminate the innermost loop\n",
    "        if y > 1:\n",
    "            break\n",
    "        # show coordinates on the screen\n",
    "        print(f\"({x},{y})\")"
   ]
  },
  {
   "cell_type": "code",
   "execution_count": 45,
   "id": "ef81f08f",
   "metadata": {},
   "outputs": [
    {
     "name": "stdout",
     "output_type": "stream",
     "text": [
      "-- Help: type quit to exit --\n"
     ]
    }
   ],
   "source": [
    "print('-- Help: type quit to exit --')\n",
    "while True:\n",
    "    color = input('Enter your favorite color:')\n",
    "    if color.lower() == 'quit':\n",
    "        break"
   ]
  },
  {
   "cell_type": "code",
   "execution_count": 46,
   "id": "4952b84d",
   "metadata": {},
   "outputs": [
    {
     "name": "stdout",
     "output_type": "stream",
     "text": [
      "0\n",
      "2\n",
      "4\n",
      "6\n",
      "8\n"
     ]
    }
   ],
   "source": [
    "for index in range(10):\n",
    "    if index % 2:\n",
    "        continue\n",
    "\n",
    "    print(index)"
   ]
  },
  {
   "cell_type": "code",
   "execution_count": 47,
   "id": "b978e46f",
   "metadata": {},
   "outputs": [
    {
     "name": "stdout",
     "output_type": "stream",
     "text": [
      "1\n",
      "3\n",
      "5\n",
      "7\n",
      "9\n"
     ]
    }
   ],
   "source": [
    "# print the odd numbers \n",
    "counter = 0\n",
    "while counter < 10:\n",
    "    counter += 1\n",
    "\n",
    "    if not counter % 2:\n",
    "        continue\n",
    "\n",
    "    print(counter)"
   ]
  },
  {
   "cell_type": "code",
   "execution_count": 48,
   "id": "fb001fab",
   "metadata": {},
   "outputs": [],
   "source": [
    "counter = 1\n",
    "max = 10\n",
    "if counter <= max:\n",
    "    counter += 1\n",
    "else:\n",
    "    pass"
   ]
  },
  {
   "cell_type": "code",
   "execution_count": 49,
   "id": "afb34ae9",
   "metadata": {},
   "outputs": [],
   "source": [
    "for i in range(1,100):\n",
    "    pass"
   ]
  },
  {
   "cell_type": "code",
   "execution_count": 50,
   "id": "23608adc",
   "metadata": {},
   "outputs": [],
   "source": [
    "def fun():\n",
    "    pass"
   ]
  },
  {
   "cell_type": "code",
   "execution_count": 51,
   "id": "9ebc8769",
   "metadata": {},
   "outputs": [],
   "source": [
    "def greet():\n",
    "    \"\"\" Display a greeting to users \"\"\"\n",
    "    print('Hi')"
   ]
  },
  {
   "cell_type": "code",
   "execution_count": 52,
   "id": "1076fdc8",
   "metadata": {},
   "outputs": [
    {
     "name": "stdout",
     "output_type": "stream",
     "text": [
      "Hi\n"
     ]
    }
   ],
   "source": [
    "greet()"
   ]
  },
  {
   "cell_type": "code",
   "execution_count": 53,
   "id": "2bb25d48",
   "metadata": {},
   "outputs": [],
   "source": [
    "def greet(name):\n",
    "    print(f\"Hi {name}\")"
   ]
  },
  {
   "cell_type": "code",
   "execution_count": 54,
   "id": "1d05ce02",
   "metadata": {},
   "outputs": [
    {
     "name": "stdout",
     "output_type": "stream",
     "text": [
      "Hi Sri\n"
     ]
    }
   ],
   "source": [
    "greet('Sri')"
   ]
  },
  {
   "cell_type": "code",
   "execution_count": 55,
   "id": "841e1957",
   "metadata": {},
   "outputs": [
    {
     "name": "stdout",
     "output_type": "stream",
     "text": [
      "Hi Lucky\n"
     ]
    }
   ],
   "source": [
    "first_name = 'Lucky'\n",
    "greet(first_name)"
   ]
  },
  {
   "cell_type": "code",
   "execution_count": 56,
   "id": "3facc4b2",
   "metadata": {},
   "outputs": [],
   "source": [
    "def greet(name):\n",
    "    return f\"Hi {name}\""
   ]
  },
  {
   "cell_type": "code",
   "execution_count": 57,
   "id": "e02e17d9",
   "metadata": {},
   "outputs": [
    {
     "data": {
      "text/plain": [
       "'Hi lucky'"
      ]
     },
     "execution_count": 57,
     "metadata": {},
     "output_type": "execute_result"
    }
   ],
   "source": [
    "greet('lucky')"
   ]
  },
  {
   "cell_type": "code",
   "execution_count": 58,
   "id": "23017fc9",
   "metadata": {},
   "outputs": [
    {
     "name": "stdout",
     "output_type": "stream",
     "text": [
      "30\n"
     ]
    }
   ],
   "source": [
    "def sum(a, b):\n",
    "    return a + b\n",
    "\n",
    "\n",
    "total = sum(10,20)\n",
    "print(total)"
   ]
  },
  {
   "cell_type": "code",
   "execution_count": 59,
   "id": "9007e9bb",
   "metadata": {},
   "outputs": [
    {
     "name": "stdout",
     "output_type": "stream",
     "text": [
      "Hello Lucky\n"
     ]
    }
   ],
   "source": [
    "def greet(name, message='Hi'):\n",
    "    return f\"{message} {name}\"\n",
    "\n",
    "\n",
    "greeting = greet('Lucky', 'Hello')\n",
    "print(greeting)"
   ]
  },
  {
   "cell_type": "code",
   "execution_count": 60,
   "id": "7add53da",
   "metadata": {},
   "outputs": [
    {
     "name": "stdout",
     "output_type": "stream",
     "text": [
      "Hi Lucky\n"
     ]
    }
   ],
   "source": [
    "def greet(name, message='Hi'):\n",
    "    return f\"{message} {name}\"\n",
    "\n",
    "\n",
    "greeting = greet('Lucky')\n",
    "print(greeting)"
   ]
  },
  {
   "cell_type": "code",
   "execution_count": 61,
   "id": "e410ae3a",
   "metadata": {},
   "outputs": [
    {
     "name": "stdout",
     "output_type": "stream",
     "text": [
      "Hi there\n"
     ]
    }
   ],
   "source": [
    "def greet(name='there', message='Hi'):\n",
    "    return f\"{message} {name}\"\n",
    "\n",
    "\n",
    "greeting = greet()\n",
    "print(greeting)"
   ]
  },
  {
   "cell_type": "code",
   "execution_count": 62,
   "id": "0b480c0c",
   "metadata": {},
   "outputs": [
    {
     "name": "stdout",
     "output_type": "stream",
     "text": [
      "Hi Hello\n"
     ]
    }
   ],
   "source": [
    "def greet(name='there', message='Hi'):\n",
    "    return f\"{message} {name}\"\n",
    "\n",
    "\n",
    "greeting = greet('Hello')\n",
    "print(greeting)"
   ]
  },
  {
   "cell_type": "code",
   "execution_count": 63,
   "id": "a840c5e0",
   "metadata": {},
   "outputs": [
    {
     "name": "stdout",
     "output_type": "stream",
     "text": [
      "Hello there\n"
     ]
    }
   ],
   "source": [
    "def greet(name='there', message='Hi'):\n",
    "    return f\"{message} {name}\"\n",
    "\n",
    "\n",
    "greeting = greet(message='Hello')\n",
    "print(greeting)"
   ]
  },
  {
   "cell_type": "code",
   "execution_count": 64,
   "id": "9e6face2",
   "metadata": {},
   "outputs": [
    {
     "name": "stdout",
     "output_type": "stream",
     "text": [
      "90.0\n"
     ]
    }
   ],
   "source": [
    "def get_net_price(price, discount):\n",
    "    return price * (1-discount)\n",
    "net_price = get_net_price(100, 0.1)\n",
    "print(net_price)"
   ]
  },
  {
   "cell_type": "code",
   "execution_count": 65,
   "id": "39722258",
   "metadata": {},
   "outputs": [
    {
     "name": "stdout",
     "output_type": "stream",
     "text": [
      "-9.9\n"
     ]
    }
   ],
   "source": [
    "net_price = get_net_price(0.1, 100)\n",
    "print(net_price)"
   ]
  },
  {
   "cell_type": "code",
   "execution_count": 66,
   "id": "09a372cc",
   "metadata": {},
   "outputs": [],
   "source": [
    "def get_net_price(price, tax=0.07, discount=0.05):\n",
    "    return price * (1 + tax - discount)"
   ]
  },
  {
   "cell_type": "code",
   "execution_count": 67,
   "id": "7d85dcc9",
   "metadata": {},
   "outputs": [
    {
     "name": "stdout",
     "output_type": "stream",
     "text": [
      "102.0\n"
     ]
    }
   ],
   "source": [
    "net_price = get_net_price(100)\n",
    "print(net_price)"
   ]
  },
  {
   "cell_type": "code",
   "execution_count": 68,
   "id": "36fe73c1",
   "metadata": {},
   "outputs": [
    {
     "name": "stdout",
     "output_type": "stream",
     "text": [
      "101.0\n"
     ]
    }
   ],
   "source": [
    "net_price = get_net_price(price=100, discount=0.06)\n",
    "print(net_price)"
   ]
  },
  {
   "cell_type": "code",
   "execution_count": 69,
   "id": "e92b35f1",
   "metadata": {},
   "outputs": [
    {
     "name": "stdout",
     "output_type": "stream",
     "text": [
      "3\n",
      "2\n",
      "1\n"
     ]
    }
   ],
   "source": [
    "def count_down(start):\n",
    "    \"\"\" Count down from a number  \"\"\"\n",
    "    print(start)\n",
    "\n",
    "    next = start - 1\n",
    "    if next > 0:\n",
    "        count_down(next)\n",
    "\n",
    "\n",
    "count_down(3)"
   ]
  },
  {
   "cell_type": "code",
   "execution_count": 70,
   "id": "c3493f4e",
   "metadata": {},
   "outputs": [
    {
     "name": "stdout",
     "output_type": "stream",
     "text": [
      "5050\n"
     ]
    }
   ],
   "source": [
    "def sum(n):\n",
    "    total = 0\n",
    "    for index in range(n+1):\n",
    "        total += index\n",
    "\n",
    "    return total\n",
    "\n",
    "\n",
    "result = sum(100)\n",
    "print(result)"
   ]
  },
  {
   "cell_type": "code",
   "execution_count": 71,
   "id": "dd701d7d",
   "metadata": {},
   "outputs": [
    {
     "name": "stdout",
     "output_type": "stream",
     "text": [
      "5050\n"
     ]
    }
   ],
   "source": [
    "def sum(n):\n",
    "    if n > 0:\n",
    "        return n + sum(n-1)\n",
    "    return 0\n",
    "\n",
    "\n",
    "result = sum(100)\n",
    "print(result)"
   ]
  },
  {
   "cell_type": "code",
   "execution_count": 72,
   "id": "65bef0d3",
   "metadata": {},
   "outputs": [
    {
     "name": "stdout",
     "output_type": "stream",
     "text": [
      "5050\n"
     ]
    }
   ],
   "source": [
    "def sum(n):\n",
    "    return n + sum(n-1) if n > 0 else 0\n",
    "\n",
    "\n",
    "result = sum(100)\n",
    "print(result)\n"
   ]
  },
  {
   "cell_type": "code",
   "execution_count": 73,
   "id": "253b6d4c",
   "metadata": {},
   "outputs": [],
   "source": [
    "def first_last(first_name, last_name):\n",
    "    return f\"{first_name} {last_name}\"\n",
    "\n",
    "\n",
    "def last_first(first_name, last_name):\n",
    "    return f\"{last_name}, {first_name}\""
   ]
  },
  {
   "cell_type": "code",
   "execution_count": 74,
   "id": "6c4e9afc",
   "metadata": {},
   "outputs": [
    {
     "name": "stdout",
     "output_type": "stream",
     "text": [
      "Lakshmidhar Kotipalli\n",
      "Kotipalli, Lakshmidhar\n"
     ]
    }
   ],
   "source": [
    "def get_full_name(first_name, last_name, formatter):\n",
    "    return formatter(first_name, last_name)\n",
    "\n",
    "full_name = get_full_name('Lakshmidhar', 'Kotipalli', first_last)\n",
    "print(full_name) \n",
    "\n",
    "full_name = get_full_name('Lakshmidhar', 'Kotipalli', last_first)\n",
    "print(full_name) "
   ]
  },
  {
   "cell_type": "code",
   "execution_count": 75,
   "id": "6c447edc",
   "metadata": {},
   "outputs": [],
   "source": [
    "lambda first_name, last_name: f\"{last_name} {first_name}\";"
   ]
  },
  {
   "cell_type": "code",
   "execution_count": 76,
   "id": "80e7b980",
   "metadata": {},
   "outputs": [
    {
     "name": "stdout",
     "output_type": "stream",
     "text": [
      "Lakshmidhar Kotipall\n",
      "Kotipalli Lakshmidhar\n"
     ]
    }
   ],
   "source": [
    "def get_full_name(first_name, last_name, formatter):\n",
    "    return formatter(first_name, last_name)\n",
    "\n",
    "\n",
    "full_name = get_full_name(\n",
    "    'Lakshmidhar',\n",
    "    'Kotipall',\n",
    "    lambda first_name, last_name: f\"{first_name} {last_name}\"\n",
    ")\n",
    "print(full_name)\n",
    "\n",
    "full_name = get_full_name(\n",
    "    'Lakshmidhar',\n",
    "    'Kotipalli',\n",
    "    lambda first_name, last_name: f\"{last_name} {first_name}\"\n",
    ")\n",
    "print(full_name)\n"
   ]
  },
  {
   "cell_type": "code",
   "execution_count": 77,
   "id": "0ebfa2cf",
   "metadata": {},
   "outputs": [],
   "source": [
    "def times(n):\n",
    "    return lambda x: x * n"
   ]
  },
  {
   "cell_type": "code",
   "execution_count": 78,
   "id": "f26d35b4",
   "metadata": {},
   "outputs": [],
   "source": [
    "double = times(2)"
   ]
  },
  {
   "cell_type": "code",
   "execution_count": 79,
   "id": "c31394f6",
   "metadata": {},
   "outputs": [
    {
     "name": "stdout",
     "output_type": "stream",
     "text": [
      "4\n",
      "6\n"
     ]
    }
   ],
   "source": [
    "result = double(2)\n",
    "print(result)\n",
    "\n",
    "result = double(3)\n",
    "print(result)"
   ]
  },
  {
   "cell_type": "code",
   "execution_count": 80,
   "id": "ed6a676d",
   "metadata": {},
   "outputs": [
    {
     "name": "stdout",
     "output_type": "stream",
     "text": [
      "6\n",
      "9\n"
     ]
    }
   ],
   "source": [
    "triple = times(3)\n",
    "\n",
    "print(triple(2))  \n",
    "print(triple(3)) "
   ]
  },
  {
   "cell_type": "code",
   "execution_count": 81,
   "id": "aef882e4",
   "metadata": {},
   "outputs": [
    {
     "name": "stdout",
     "output_type": "stream",
     "text": [
      "3\n",
      "3\n",
      "3\n"
     ]
    }
   ],
   "source": [
    "callables = []\n",
    "for i in (1, 2, 3):\n",
    "    callables.append(lambda: i)\n",
    "\n",
    "for f in callables:\n",
    "    print(f())\n"
   ]
  },
  {
   "cell_type": "code",
   "execution_count": 82,
   "id": "a8524ab1",
   "metadata": {},
   "outputs": [
    {
     "name": "stdout",
     "output_type": "stream",
     "text": [
      "1\n",
      "2\n",
      "3\n"
     ]
    }
   ],
   "source": [
    "callables = []\n",
    "for i in (1, 2, 3):\n",
    "    callables.append(lambda a=i: a)\n",
    "\n",
    "for f in callables:\n",
    "    print(f())\n"
   ]
  },
  {
   "cell_type": "code",
   "execution_count": 83,
   "id": "9faae9eb",
   "metadata": {},
   "outputs": [],
   "source": [
    "numbers = [1, 3, 2, 7, 9, 4]"
   ]
  },
  {
   "cell_type": "code",
   "execution_count": 84,
   "id": "ec97491a",
   "metadata": {},
   "outputs": [
    {
     "name": "stdout",
     "output_type": "stream",
     "text": [
      "[1, 3, 2, 7, 9, 4]\n"
     ]
    }
   ],
   "source": [
    "print(numbers)"
   ]
  },
  {
   "cell_type": "code",
   "execution_count": 85,
   "id": "eaff7e0a",
   "metadata": {},
   "outputs": [
    {
     "name": "stdout",
     "output_type": "stream",
     "text": [
      "['red', 'green', 'blue']\n"
     ]
    }
   ],
   "source": [
    "colors = ['red', 'green', 'blue']\n",
    "print(colors)"
   ]
  },
  {
   "cell_type": "code",
   "execution_count": 86,
   "id": "d672f756",
   "metadata": {},
   "outputs": [
    {
     "name": "stdout",
     "output_type": "stream",
     "text": [
      "[[0, 0], [100, 100], [200, 200]]\n"
     ]
    }
   ],
   "source": [
    "coordinates = [[0, 0], [100, 100], [200, 200]]\n",
    "print(coordinates)"
   ]
  },
  {
   "cell_type": "code",
   "execution_count": 87,
   "id": "e1f2a27e",
   "metadata": {},
   "outputs": [
    {
     "name": "stdout",
     "output_type": "stream",
     "text": [
      "1\n"
     ]
    }
   ],
   "source": [
    "numbers = [1, 3, 2, 7, 9, 4]\n",
    "\n",
    "print(numbers[0])"
   ]
  },
  {
   "cell_type": "code",
   "execution_count": 88,
   "id": "17fabdb4",
   "metadata": {},
   "outputs": [
    {
     "name": "stdout",
     "output_type": "stream",
     "text": [
      "3\n"
     ]
    }
   ],
   "source": [
    "print(numbers[1])"
   ]
  },
  {
   "cell_type": "code",
   "execution_count": 89,
   "id": "f80de537",
   "metadata": {},
   "outputs": [
    {
     "name": "stdout",
     "output_type": "stream",
     "text": [
      "4\n",
      "9\n"
     ]
    }
   ],
   "source": [
    "print(numbers[-1])\n",
    "print(numbers[-2])"
   ]
  },
  {
   "cell_type": "code",
   "execution_count": 90,
   "id": "7cdb9dd4",
   "metadata": {},
   "outputs": [
    {
     "name": "stdout",
     "output_type": "stream",
     "text": [
      "[10, 3, 2, 7, 9, 4]\n"
     ]
    }
   ],
   "source": [
    "numbers[0] = 10\n",
    "\n",
    "print(numbers)"
   ]
  },
  {
   "cell_type": "code",
   "execution_count": 91,
   "id": "5583e943",
   "metadata": {},
   "outputs": [
    {
     "name": "stdout",
     "output_type": "stream",
     "text": [
      "[1, 30, 2, 7, 9, 4]\n"
     ]
    }
   ],
   "source": [
    "numbers = [1, 3, 2, 7, 9, 4]\n",
    "numbers[1] = numbers[1]*10\n",
    "\n",
    "print(numbers)\n"
   ]
  },
  {
   "cell_type": "code",
   "execution_count": 92,
   "id": "9eba3e3b",
   "metadata": {},
   "outputs": [
    {
     "name": "stdout",
     "output_type": "stream",
     "text": [
      "[1, 3, 1.0, 7, 9, 4]\n"
     ]
    }
   ],
   "source": [
    "numbers = [1, 3, 2, 7, 9, 4]\n",
    "numbers[2] /= 2\n",
    "\n",
    "print(numbers)"
   ]
  },
  {
   "cell_type": "code",
   "execution_count": 93,
   "id": "b0b08663",
   "metadata": {},
   "outputs": [
    {
     "name": "stdout",
     "output_type": "stream",
     "text": [
      "[1, 3, 2, 7, 9, 4, 100]\n"
     ]
    }
   ],
   "source": [
    "numbers = [1, 3, 2, 7, 9, 4]\n",
    "numbers.append(100)\n",
    "\n",
    "print(numbers)"
   ]
  },
  {
   "cell_type": "code",
   "execution_count": 94,
   "id": "683c9fe2",
   "metadata": {},
   "outputs": [
    {
     "name": "stdout",
     "output_type": "stream",
     "text": [
      "[1, 3, 100, 2, 7, 9, 4]\n"
     ]
    }
   ],
   "source": [
    "numbers = [1, 3, 2, 7, 9, 4]\n",
    "numbers.insert(2, 100)\n",
    "\n",
    "print(numbers)"
   ]
  },
  {
   "cell_type": "code",
   "execution_count": 95,
   "id": "e307ceec",
   "metadata": {},
   "outputs": [
    {
     "name": "stdout",
     "output_type": "stream",
     "text": [
      "[3, 2, 7, 9, 4]\n"
     ]
    }
   ],
   "source": [
    "numbers = [1, 3, 2, 7, 9, 4]\n",
    "del numbers[0]\n",
    "\n",
    "print(numbers)"
   ]
  },
  {
   "cell_type": "code",
   "execution_count": 96,
   "id": "ef7de658",
   "metadata": {},
   "outputs": [
    {
     "name": "stdout",
     "output_type": "stream",
     "text": [
      "4\n",
      "[1, 3, 2, 7, 9]\n"
     ]
    }
   ],
   "source": [
    "numbers = [1, 3, 2, 7, 9, 4]\n",
    "last = numbers.pop()\n",
    "\n",
    "print(last)\n",
    "print(numbers)\n"
   ]
  },
  {
   "cell_type": "code",
   "execution_count": 97,
   "id": "98511257",
   "metadata": {},
   "outputs": [
    {
     "name": "stdout",
     "output_type": "stream",
     "text": [
      "3\n",
      "[1, 2, 7, 9, 4]\n"
     ]
    }
   ],
   "source": [
    "numbers = [1, 3, 2, 7, 9, 4]\n",
    "\n",
    "second = numbers.pop(1)\n",
    "\n",
    "print(second)\n",
    "print(numbers)"
   ]
  },
  {
   "cell_type": "code",
   "execution_count": 98,
   "id": "36b060c0",
   "metadata": {},
   "outputs": [
    {
     "name": "stdout",
     "output_type": "stream",
     "text": [
      "[1, 3, 2, 7, 4, 9]\n"
     ]
    }
   ],
   "source": [
    "numbers = [1, 3, 2, 7, 9, 4, 9]\n",
    "\n",
    "numbers.remove(9)\n",
    "print(numbers)"
   ]
  },
  {
   "cell_type": "code",
   "execution_count": 99,
   "id": "e772bdbe",
   "metadata": {},
   "outputs": [],
   "source": [
    "rgb = ('red', 'green', 'blue')"
   ]
  },
  {
   "cell_type": "code",
   "execution_count": 100,
   "id": "5ffc11c9",
   "metadata": {},
   "outputs": [
    {
     "name": "stdout",
     "output_type": "stream",
     "text": [
      "red\n",
      "green\n",
      "blue\n"
     ]
    }
   ],
   "source": [
    "rgb = ('red', 'green', 'blue')\n",
    "\n",
    "print(rgb[0])\n",
    "print(rgb[1])\n",
    "print(rgb[2])"
   ]
  },
  {
   "cell_type": "code",
   "execution_count": 101,
   "id": "da877e25",
   "metadata": {},
   "outputs": [
    {
     "ename": "TypeError",
     "evalue": "'tuple' object does not support item assignment",
     "output_type": "error",
     "traceback": [
      "\u001b[1;31m---------------------------------------------------------------------------\u001b[0m",
      "\u001b[1;31mTypeError\u001b[0m                                 Traceback (most recent call last)",
      "\u001b[1;32mc:\\Users\\Lakshmidhar Kotipall\\OneDrive - Umich\\Desktop\\Master's\\Pattern recognition and neural networks\\Assignments\\HW2\\python-tutorial-1-10.ipynb Cell 101\u001b[0m line \u001b[0;36m<cell line: 2>\u001b[1;34m()\u001b[0m\n\u001b[0;32m      <a href='vscode-notebook-cell:/c%3A/Users/Lakshmidhar%20Kotipall/OneDrive%20-%20Umich/Desktop/Master%27s/Pattern%20recognition%20and%20neural%20networks/Assignments/HW2/python-tutorial-1-10.ipynb#Y202sZmlsZQ%3D%3D?line=0'>1</a>\u001b[0m rgb \u001b[39m=\u001b[39m (\u001b[39m'\u001b[39m\u001b[39mred\u001b[39m\u001b[39m'\u001b[39m, \u001b[39m'\u001b[39m\u001b[39mgreen\u001b[39m\u001b[39m'\u001b[39m, \u001b[39m'\u001b[39m\u001b[39mblue\u001b[39m\u001b[39m'\u001b[39m)\n\u001b[1;32m----> <a href='vscode-notebook-cell:/c%3A/Users/Lakshmidhar%20Kotipall/OneDrive%20-%20Umich/Desktop/Master%27s/Pattern%20recognition%20and%20neural%20networks/Assignments/HW2/python-tutorial-1-10.ipynb#Y202sZmlsZQ%3D%3D?line=1'>2</a>\u001b[0m rgb[\u001b[39m0\u001b[39m] \u001b[39m=\u001b[39m \u001b[39m'\u001b[39m\u001b[39myellow\u001b[39m\u001b[39m'\u001b[39m\n",
      "\u001b[1;31mTypeError\u001b[0m: 'tuple' object does not support item assignment"
     ]
    }
   ],
   "source": [
    "rgb = ('red', 'green', 'blue')\n",
    "rgb[0] = 'yellow'"
   ]
  },
  {
   "cell_type": "code",
   "execution_count": 102,
   "id": "dadf9543",
   "metadata": {},
   "outputs": [
    {
     "name": "stdout",
     "output_type": "stream",
     "text": [
      "<class 'tuple'>\n"
     ]
    }
   ],
   "source": [
    "numbers = (3,)\n",
    "print(type(numbers))"
   ]
  },
  {
   "cell_type": "code",
   "execution_count": 103,
   "id": "9914e2f8",
   "metadata": {},
   "outputs": [
    {
     "name": "stdout",
     "output_type": "stream",
     "text": [
      "<class 'int'>\n"
     ]
    }
   ],
   "source": [
    "numbers = (3)\n",
    "print(type(numbers))"
   ]
  },
  {
   "cell_type": "code",
   "execution_count": 104,
   "id": "64152c7c",
   "metadata": {},
   "outputs": [
    {
     "name": "stdout",
     "output_type": "stream",
     "text": [
      "('red', 'green', 'blue')\n",
      "('Cyan', 'Magenta', 'Yellow', 'black')\n"
     ]
    }
   ],
   "source": [
    "colors = ('red', 'green', 'blue')\n",
    "print(colors)\n",
    "\n",
    "colors = ('Cyan', 'Magenta', 'Yellow', 'black')\n",
    "print(colors)"
   ]
  },
  {
   "cell_type": "code",
   "execution_count": 105,
   "id": "8510f48e",
   "metadata": {},
   "outputs": [
    {
     "name": "stdout",
     "output_type": "stream",
     "text": [
      "['James', 'Jennifer', 'John', 'Mary', 'Patricia', 'Robert']\n"
     ]
    }
   ],
   "source": [
    "guests = ['James', 'Mary', 'John', 'Patricia', 'Robert', 'Jennifer']\n",
    "guests.sort()\n",
    "\n",
    "print(guests)"
   ]
  },
  {
   "cell_type": "code",
   "execution_count": 106,
   "id": "89f38624",
   "metadata": {},
   "outputs": [
    {
     "name": "stdout",
     "output_type": "stream",
     "text": [
      "['Robert', 'Patricia', 'Mary', 'John', 'Jennifer', 'James']\n"
     ]
    }
   ],
   "source": [
    "guests = ['James', 'Mary', 'John', 'Patricia', 'Robert', 'Jennifer']\n",
    "guests.sort(reverse=True)\n",
    "\n",
    "print(guests)"
   ]
  },
  {
   "cell_type": "code",
   "execution_count": 107,
   "id": "d02d8d28",
   "metadata": {},
   "outputs": [
    {
     "name": "stdout",
     "output_type": "stream",
     "text": [
      "[4, 5, 6, 7, 8, 9]\n"
     ]
    }
   ],
   "source": [
    "scores = [5, 7, 4, 6, 9, 8]\n",
    "scores.sort()\n",
    "\n",
    "print(scores)"
   ]
  },
  {
   "cell_type": "code",
   "execution_count": 108,
   "id": "20964612",
   "metadata": {},
   "outputs": [
    {
     "name": "stdout",
     "output_type": "stream",
     "text": [
      "[9, 8, 7, 6, 5, 4]\n"
     ]
    }
   ],
   "source": [
    "scores = [5, 7, 4, 6, 9, 8]\n",
    "scores.sort(reverse=True)\n",
    "\n",
    "print(scores)"
   ]
  },
  {
   "cell_type": "code",
   "execution_count": 109,
   "id": "edd0d57e",
   "metadata": {},
   "outputs": [],
   "source": [
    "companies = [('Google', 2019, 134.81),\n",
    "             ('Apple', 2019, 260.2),\n",
    "             ('Facebook', 2019, 70.7)]"
   ]
  },
  {
   "cell_type": "code",
   "execution_count": 110,
   "id": "0a56c7f1",
   "metadata": {},
   "outputs": [],
   "source": [
    "def sort_key(company):\n",
    "    return company[2]"
   ]
  },
  {
   "cell_type": "code",
   "execution_count": 111,
   "id": "a92a9256",
   "metadata": {},
   "outputs": [],
   "source": [
    "companies.sort(key=sort_key, reverse=True)"
   ]
  },
  {
   "cell_type": "code",
   "execution_count": 112,
   "id": "f778df7c",
   "metadata": {},
   "outputs": [
    {
     "name": "stdout",
     "output_type": "stream",
     "text": [
      "[('Apple', 2019, 260.2), ('Google', 2019, 134.81), ('Facebook', 2019, 70.7)]\n"
     ]
    }
   ],
   "source": [
    "companies = [('Google', 2019, 134.81),\n",
    "             ('Apple', 2019, 260.2),\n",
    "             ('Facebook', 2019, 70.7)]\n",
    "\n",
    "\n",
    "def sort_key(company):\n",
    "    return company[2]\n",
    "\n",
    "companies.sort(key=sort_key, reverse=True)\n",
    "\n",
    "print(companies)"
   ]
  },
  {
   "cell_type": "code",
   "execution_count": 113,
   "id": "5e4a3bc0",
   "metadata": {},
   "outputs": [
    {
     "name": "stdout",
     "output_type": "stream",
     "text": [
      "[('Facebook', 2019, 70.7), ('Google', 2019, 134.81), ('Apple', 2019, 260.2)]\n"
     ]
    }
   ],
   "source": [
    "companies = [('Google', 2019, 134.81),\n",
    "             ('Apple', 2019, 260.2),\n",
    "             ('Facebook', 2019, 70.7)]\n",
    "\n",
    "companies.sort(key=lambda company: company[2])\n",
    "\n",
    "print(companies)"
   ]
  },
  {
   "cell_type": "code",
   "execution_count": 114,
   "id": "06d6225b",
   "metadata": {},
   "outputs": [
    {
     "name": "stdout",
     "output_type": "stream",
     "text": [
      "['James', 'Mary', 'John', 'Patricia', 'Robert', 'Jennifer']\n",
      "['James', 'Jennifer', 'John', 'Mary', 'Patricia', 'Robert']\n"
     ]
    }
   ],
   "source": [
    "guests = ['James', 'Mary', 'John', 'Patricia', 'Robert', 'Jennifer']\n",
    "sorted_guests = sorted(guests)\n",
    "\n",
    "print(guests)\n",
    "print(sorted_guests)"
   ]
  },
  {
   "cell_type": "code",
   "execution_count": 115,
   "id": "cc2a9eec",
   "metadata": {},
   "outputs": [
    {
     "name": "stdout",
     "output_type": "stream",
     "text": [
      "['Robert', 'Patricia', 'Mary', 'John', 'Jennifer', 'James']\n"
     ]
    }
   ],
   "source": [
    "guests = ['James', 'Mary', 'John', 'Patricia', 'Robert', 'Jennifer']\n",
    "sorted_guests = sorted(guests, reverse=True)\n",
    "\n",
    "print(sorted_guests)"
   ]
  },
  {
   "cell_type": "code",
   "execution_count": 116,
   "id": "9aca7832",
   "metadata": {},
   "outputs": [
    {
     "name": "stdout",
     "output_type": "stream",
     "text": [
      "[4, 5, 6, 7, 8, 9]\n"
     ]
    }
   ],
   "source": [
    "scores = [5, 7, 4, 6, 9, 8]\n",
    "sorted_scores = sorted(scores)\n",
    "\n",
    "print(sorted_scores)"
   ]
  },
  {
   "cell_type": "code",
   "execution_count": 117,
   "id": "911f243f",
   "metadata": {},
   "outputs": [
    {
     "name": "stdout",
     "output_type": "stream",
     "text": [
      "[9, 8, 7, 6, 5, 4]\n"
     ]
    }
   ],
   "source": [
    "scores = [5, 7, 4, 6, 9, 8]\n",
    "sorted_scores = sorted(scores, reverse=True)\n",
    "\n",
    "print(sorted_scores)"
   ]
  },
  {
   "cell_type": "code",
   "execution_count": 118,
   "id": "5f0b0553",
   "metadata": {},
   "outputs": [],
   "source": [
    "colors = ['red', 'orange', 'yellow', 'green', 'blue', 'indigo', 'violet']"
   ]
  },
  {
   "cell_type": "code",
   "execution_count": 119,
   "id": "e287c3eb",
   "metadata": {},
   "outputs": [
    {
     "name": "stdout",
     "output_type": "stream",
     "text": [
      "['orange', 'yellow', 'green']\n"
     ]
    }
   ],
   "source": [
    "colors = ['red', 'orange', 'yellow', 'green', 'blue', 'indigo', 'violet']\n",
    "sub_colors = colors[1:4]\n",
    "\n",
    "print(sub_colors)\n"
   ]
  },
  {
   "cell_type": "code",
   "execution_count": 120,
   "id": "ff272b36",
   "metadata": {},
   "outputs": [
    {
     "name": "stdout",
     "output_type": "stream",
     "text": [
      "['red', 'orange', 'yellow']\n"
     ]
    }
   ],
   "source": [
    "colors = ['red', 'orange', 'yellow', 'green', 'blue', 'indigo', 'violet']\n",
    "sub_colors = colors[:3]\n",
    "\n",
    "print(sub_colors)\n"
   ]
  },
  {
   "cell_type": "code",
   "execution_count": 121,
   "id": "62c62612",
   "metadata": {},
   "outputs": [
    {
     "name": "stdout",
     "output_type": "stream",
     "text": [
      "['blue', 'indigo', 'violet']\n"
     ]
    }
   ],
   "source": [
    "colors = ['red', 'orange', 'yellow', 'green', 'blue', 'indigo', 'violet']\n",
    "sub_colors = colors[-3:]\n",
    "\n",
    "print(sub_colors)\n"
   ]
  },
  {
   "cell_type": "code",
   "execution_count": 122,
   "id": "9815adb4",
   "metadata": {},
   "outputs": [
    {
     "name": "stdout",
     "output_type": "stream",
     "text": [
      "['red', 'yellow', 'blue', 'violet']\n"
     ]
    }
   ],
   "source": [
    "colors = ['red', 'orange', 'yellow', 'green', 'blue', 'indigo', 'violet']\n",
    "sub_colors = colors[::2]\n",
    "\n",
    "print(sub_colors)\n"
   ]
  },
  {
   "cell_type": "code",
   "execution_count": 123,
   "id": "1b5ca804",
   "metadata": {},
   "outputs": [
    {
     "name": "stdout",
     "output_type": "stream",
     "text": [
      "['violet', 'indigo', 'blue', 'green', 'yellow', 'orange', 'red']\n"
     ]
    }
   ],
   "source": [
    "colors = ['red', 'orange', 'yellow', 'green', 'blue', 'indigo', 'violet']\n",
    "reversed_colors = colors[::-1]\n",
    "\n",
    "print(reversed_colors)\n"
   ]
  },
  {
   "cell_type": "code",
   "execution_count": 124,
   "id": "40f4f5dc",
   "metadata": {},
   "outputs": [
    {
     "name": "stdout",
     "output_type": "stream",
     "text": [
      "['black', 'white', 'yellow', 'green', 'blue', 'indigo', 'violet']\n"
     ]
    }
   ],
   "source": [
    "colors = ['red', 'orange', 'yellow', 'green', 'blue', 'indigo', 'violet']\n",
    "colors[0:2] = ['black', 'white']\n",
    "\n",
    "print(colors)\n"
   ]
  },
  {
   "cell_type": "code",
   "execution_count": 125,
   "id": "9460bff9",
   "metadata": {},
   "outputs": [
    {
     "name": "stdout",
     "output_type": "stream",
     "text": [
      "The list has 7 elements\n",
      "['black', 'white', 'gray', 'yellow', 'green', 'blue', 'indigo', 'violet']\n",
      "The list now has 8 elements\n"
     ]
    }
   ],
   "source": [
    "colors = ['red', 'orange', 'yellow', 'green', 'blue', 'indigo', 'violet']\n",
    "print(f\"The list has {len(colors)} elements\")\n",
    "\n",
    "colors[0:2] = ['black', 'white', 'gray']\n",
    "print(colors)\n",
    "print(f\"The list now has {len(colors)} elements\")\n"
   ]
  },
  {
   "cell_type": "code",
   "execution_count": 126,
   "id": "fdc50162",
   "metadata": {},
   "outputs": [
    {
     "name": "stdout",
     "output_type": "stream",
     "text": [
      "['red', 'orange', 'indigo', 'violet']\n"
     ]
    }
   ],
   "source": [
    "colors = ['red', 'orange', 'yellow', 'green', 'blue', 'indigo', 'violet']\n",
    "del colors[2:5]\n",
    "\n",
    "print(colors)\n"
   ]
  },
  {
   "cell_type": "code",
   "execution_count": 127,
   "id": "0c4d5ae5",
   "metadata": {},
   "outputs": [],
   "source": [
    "colors = ['red', 'blue', 'green']"
   ]
  },
  {
   "cell_type": "code",
   "execution_count": 128,
   "id": "6a04711e",
   "metadata": {},
   "outputs": [],
   "source": [
    "red = colors[0]\n",
    "blue = colors[1]\n",
    "green = colors[2]\n"
   ]
  },
  {
   "cell_type": "code",
   "execution_count": 129,
   "id": "eaae0f63",
   "metadata": {},
   "outputs": [
    {
     "name": "stdout",
     "output_type": "stream",
     "text": [
      "red\n",
      "blue\n",
      "['green']\n"
     ]
    }
   ],
   "source": [
    "colors = ['red', 'blue', 'green']\n",
    "red, blue, *other = colors\n",
    "\n",
    "print(red)\n",
    "print(blue)\n",
    "print(other)\n"
   ]
  },
  {
   "cell_type": "code",
   "execution_count": 130,
   "id": "3455e0a5",
   "metadata": {},
   "outputs": [
    {
     "name": "stdout",
     "output_type": "stream",
     "text": [
      "cyan\n",
      "magenta\n",
      "['yellow', 'black']\n"
     ]
    }
   ],
   "source": [
    "colors = ['cyan', 'magenta', 'yellow', 'black']\n",
    "cyan, magenta, *other = colors\n",
    "\n",
    "print(cyan)\n",
    "print(magenta)\n",
    "print(other)\n"
   ]
  },
  {
   "cell_type": "code",
   "execution_count": 131,
   "id": "6d79ff23",
   "metadata": {},
   "outputs": [
    {
     "name": "stdout",
     "output_type": "stream",
     "text": [
      "New York\n",
      "Beijing\n",
      "Cairo\n",
      "Mumbai\n",
      "Mexico\n"
     ]
    }
   ],
   "source": [
    "cities = ['New York', 'Beijing', 'Cairo', 'Mumbai', 'Mexico']\n",
    "\n",
    "for city in cities:\n",
    "    print(city)"
   ]
  },
  {
   "cell_type": "code",
   "execution_count": 132,
   "id": "626f1ef7",
   "metadata": {},
   "outputs": [
    {
     "name": "stdout",
     "output_type": "stream",
     "text": [
      "(0, 'New York')\n",
      "(1, 'Beijing')\n",
      "(2, 'Cairo')\n",
      "(3, 'Mumbai')\n",
      "(4, 'Mexico')\n"
     ]
    }
   ],
   "source": [
    "cities = ['New York', 'Beijing', 'Cairo', 'Mumbai', 'Mexico']\n",
    "\n",
    "for item in enumerate(cities):\n",
    "    print(item)"
   ]
  },
  {
   "cell_type": "code",
   "execution_count": 133,
   "id": "1d1bfcce",
   "metadata": {},
   "outputs": [
    {
     "name": "stdout",
     "output_type": "stream",
     "text": [
      "0: New York\n",
      "1: Beijing\n",
      "2: Cairo\n",
      "3: Mumbai\n",
      "4: Mexico\n"
     ]
    }
   ],
   "source": [
    "cities = ['New York', 'Beijing', 'Cairo', 'Mumbai', 'Mexico']\n",
    "\n",
    "for index, city in enumerate(cities):\n",
    "    print(f\"{index}: {city}\")"
   ]
  },
  {
   "cell_type": "code",
   "execution_count": 134,
   "id": "e7bd3fc6",
   "metadata": {},
   "outputs": [
    {
     "name": "stdout",
     "output_type": "stream",
     "text": [
      "1: New York\n",
      "2: Beijing\n",
      "3: Cairo\n",
      "4: Mumbai\n",
      "5: Mexico\n"
     ]
    }
   ],
   "source": [
    "cities = ['New York', 'Beijing', 'Cairo', 'Mumbai', 'Mexico']\n",
    "\n",
    "for index, city in enumerate(cities,1):\n",
    "    print(f\"{index}: {city}\")"
   ]
  },
  {
   "cell_type": "code",
   "execution_count": 135,
   "id": "9551617a",
   "metadata": {},
   "outputs": [
    {
     "name": "stdout",
     "output_type": "stream",
     "text": [
      "3\n"
     ]
    }
   ],
   "source": [
    "cities = ['New York', 'Beijing', 'Cairo', 'Mumbai', 'Mexico']\n",
    "\n",
    "result = cities.index('Mumbai')\n",
    "print(result)\n"
   ]
  },
  {
   "cell_type": "code",
   "execution_count": 136,
   "id": "e0265171",
   "metadata": {},
   "outputs": [
    {
     "ename": "ValueError",
     "evalue": "'Osaka' is not in list",
     "output_type": "error",
     "traceback": [
      "\u001b[1;31m---------------------------------------------------------------------------\u001b[0m",
      "\u001b[1;31mValueError\u001b[0m                                Traceback (most recent call last)",
      "\u001b[1;32mc:\\Users\\Lakshmidhar Kotipall\\OneDrive - Umich\\Desktop\\Master's\\Pattern recognition and neural networks\\Assignments\\HW2\\python-tutorial-1-10.ipynb Cell 136\u001b[0m line \u001b[0;36m<cell line: 3>\u001b[1;34m()\u001b[0m\n\u001b[0;32m      <a href='vscode-notebook-cell:/c%3A/Users/Lakshmidhar%20Kotipall/OneDrive%20-%20Umich/Desktop/Master%27s/Pattern%20recognition%20and%20neural%20networks/Assignments/HW2/python-tutorial-1-10.ipynb#Y252sZmlsZQ%3D%3D?line=0'>1</a>\u001b[0m cities \u001b[39m=\u001b[39m [\u001b[39m'\u001b[39m\u001b[39mNew York\u001b[39m\u001b[39m'\u001b[39m, \u001b[39m'\u001b[39m\u001b[39mBeijing\u001b[39m\u001b[39m'\u001b[39m, \u001b[39m'\u001b[39m\u001b[39mCairo\u001b[39m\u001b[39m'\u001b[39m, \u001b[39m'\u001b[39m\u001b[39mMumbai\u001b[39m\u001b[39m'\u001b[39m, \u001b[39m'\u001b[39m\u001b[39mMexico\u001b[39m\u001b[39m'\u001b[39m]\n\u001b[1;32m----> <a href='vscode-notebook-cell:/c%3A/Users/Lakshmidhar%20Kotipall/OneDrive%20-%20Umich/Desktop/Master%27s/Pattern%20recognition%20and%20neural%20networks/Assignments/HW2/python-tutorial-1-10.ipynb#Y252sZmlsZQ%3D%3D?line=2'>3</a>\u001b[0m result \u001b[39m=\u001b[39m cities\u001b[39m.\u001b[39;49mindex(\u001b[39m'\u001b[39;49m\u001b[39mOsaka\u001b[39;49m\u001b[39m'\u001b[39;49m)\n\u001b[0;32m      <a href='vscode-notebook-cell:/c%3A/Users/Lakshmidhar%20Kotipall/OneDrive%20-%20Umich/Desktop/Master%27s/Pattern%20recognition%20and%20neural%20networks/Assignments/HW2/python-tutorial-1-10.ipynb#Y252sZmlsZQ%3D%3D?line=3'>4</a>\u001b[0m \u001b[39mprint\u001b[39m(result)\n",
      "\u001b[1;31mValueError\u001b[0m: 'Osaka' is not in list"
     ]
    }
   ],
   "source": [
    "cities = ['New York', 'Beijing', 'Cairo', 'Mumbai', 'Mexico']\n",
    "\n",
    "result = cities.index('Osaka')\n",
    "print(result)\n"
   ]
  },
  {
   "cell_type": "code",
   "execution_count": 137,
   "id": "71d64312",
   "metadata": {},
   "outputs": [
    {
     "name": "stdout",
     "output_type": "stream",
     "text": [
      "Osaka doesn't exist in the list.\n"
     ]
    }
   ],
   "source": [
    "cities = ['New York', 'Beijing', 'Cairo', 'Mumbai', 'Mexico']\n",
    "city = 'Osaka'\n",
    "\n",
    "if city in cities:\n",
    "    result = cities.index(city)\n",
    "    print(f\"The {city} has an index of {result}.\")\n",
    "else:\n",
    "    print(f\"{city} doesn't exist in the list.\")\n"
   ]
  },
  {
   "cell_type": "code",
   "execution_count": 138,
   "id": "3724395d",
   "metadata": {},
   "outputs": [
    {
     "name": "stdout",
     "output_type": "stream",
     "text": [
      "0\n",
      "1\n",
      "2\n"
     ]
    }
   ],
   "source": [
    "for index in range(3):\n",
    "    print(index)"
   ]
  },
  {
   "cell_type": "code",
   "execution_count": 139,
   "id": "30101a25",
   "metadata": {},
   "outputs": [
    {
     "name": "stdout",
     "output_type": "stream",
     "text": [
      "I\n",
      "t\n",
      "e\n",
      "r\n",
      "a\n",
      "b\n",
      "l\n",
      "e\n",
      "s\n"
     ]
    }
   ],
   "source": [
    "str = 'Iterables'\n",
    "for ch in str:\n",
    "    print(ch)\n"
   ]
  },
  {
   "cell_type": "code",
   "execution_count": 140,
   "id": "39b3a8ea",
   "metadata": {},
   "outputs": [
    {
     "name": "stdout",
     "output_type": "stream",
     "text": [
      "high\n",
      "medium\n",
      "low\n"
     ]
    }
   ],
   "source": [
    "ranks = ['high', 'medium', 'low']\n",
    "\n",
    "for rank in ranks:\n",
    "    print(rank)\n"
   ]
  },
  {
   "cell_type": "code",
   "execution_count": 141,
   "id": "8c261c6f",
   "metadata": {},
   "outputs": [],
   "source": [
    "colors = ['red', 'green', 'blue']\n",
    "colors_iter = iter(colors)"
   ]
  },
  {
   "cell_type": "code",
   "execution_count": 142,
   "id": "d2fd4c37",
   "metadata": {},
   "outputs": [
    {
     "name": "stdout",
     "output_type": "stream",
     "text": [
      "red\n"
     ]
    }
   ],
   "source": [
    "colors = ['red', 'green', 'blue']\n",
    "colors_iter = iter(colors)\n",
    "\n",
    "color = next(colors_iter)\n",
    "print(color)"
   ]
  },
  {
   "cell_type": "code",
   "execution_count": 143,
   "id": "01c2edd5",
   "metadata": {},
   "outputs": [
    {
     "name": "stdout",
     "output_type": "stream",
     "text": [
      "red\n",
      "green\n",
      "blue\n"
     ]
    }
   ],
   "source": [
    "colors = ['red', 'green', 'blue']\n",
    "colors_iter = iter(colors)\n",
    "\n",
    "color = next(colors_iter)\n",
    "print(color)\n",
    "\n",
    "color = next(colors_iter)\n",
    "print(color)\n",
    "\n",
    "color = next(colors_iter)\n",
    "print(color)"
   ]
  },
  {
   "cell_type": "code",
   "execution_count": 144,
   "id": "4827bd25",
   "metadata": {},
   "outputs": [
    {
     "name": "stdout",
     "output_type": "stream",
     "text": [
      "red\n",
      "green\n",
      "blue\n"
     ]
    },
    {
     "ename": "StopIteration",
     "evalue": "",
     "output_type": "error",
     "traceback": [
      "\u001b[1;31m---------------------------------------------------------------------------\u001b[0m",
      "\u001b[1;31mStopIteration\u001b[0m                             Traceback (most recent call last)",
      "\u001b[1;32mc:\\Users\\Lakshmidhar Kotipall\\OneDrive - Umich\\Desktop\\Master's\\Pattern recognition and neural networks\\Assignments\\HW2\\python-tutorial-1-10.ipynb Cell 144\u001b[0m line \u001b[0;36m<cell line: 14>\u001b[1;34m()\u001b[0m\n\u001b[0;32m     <a href='vscode-notebook-cell:/c%3A/Users/Lakshmidhar%20Kotipall/OneDrive%20-%20Umich/Desktop/Master%27s/Pattern%20recognition%20and%20neural%20networks/Assignments/HW2/python-tutorial-1-10.ipynb#Y263sZmlsZQ%3D%3D?line=10'>11</a>\u001b[0m \u001b[39mprint\u001b[39m(color)\n\u001b[0;32m     <a href='vscode-notebook-cell:/c%3A/Users/Lakshmidhar%20Kotipall/OneDrive%20-%20Umich/Desktop/Master%27s/Pattern%20recognition%20and%20neural%20networks/Assignments/HW2/python-tutorial-1-10.ipynb#Y263sZmlsZQ%3D%3D?line=12'>13</a>\u001b[0m \u001b[39m# cause an excpetion\u001b[39;00m\n\u001b[1;32m---> <a href='vscode-notebook-cell:/c%3A/Users/Lakshmidhar%20Kotipall/OneDrive%20-%20Umich/Desktop/Master%27s/Pattern%20recognition%20and%20neural%20networks/Assignments/HW2/python-tutorial-1-10.ipynb#Y263sZmlsZQ%3D%3D?line=13'>14</a>\u001b[0m color \u001b[39m=\u001b[39m \u001b[39mnext\u001b[39;49m(colors_iter)\n\u001b[0;32m     <a href='vscode-notebook-cell:/c%3A/Users/Lakshmidhar%20Kotipall/OneDrive%20-%20Umich/Desktop/Master%27s/Pattern%20recognition%20and%20neural%20networks/Assignments/HW2/python-tutorial-1-10.ipynb#Y263sZmlsZQ%3D%3D?line=14'>15</a>\u001b[0m \u001b[39mprint\u001b[39m(color)\n",
      "\u001b[1;31mStopIteration\u001b[0m: "
     ]
    }
   ],
   "source": [
    "colors = ['red', 'green', 'blue']\n",
    "colors_iter = iter(colors)\n",
    "\n",
    "color = next(colors_iter)\n",
    "print(color)\n",
    "\n",
    "color = next(colors_iter)\n",
    "print(color)\n",
    "\n",
    "color = next(colors_iter)\n",
    "print(color)\n",
    "\n",
    "# cause an excpetion\n",
    "color = next(colors_iter)\n",
    "print(color)\n"
   ]
  },
  {
   "cell_type": "code",
   "execution_count": 145,
   "id": "01fe675a",
   "metadata": {},
   "outputs": [
    {
     "name": "stdout",
     "output_type": "stream",
     "text": [
      "red\n",
      "green\n",
      "blue\n"
     ]
    }
   ],
   "source": [
    "colors = ['red', 'green', 'blue']\n",
    "iterator = iter(colors)\n",
    "\n",
    "for color in iterator:\n",
    "    print(color)\n"
   ]
  },
  {
   "cell_type": "code",
   "execution_count": 146,
   "id": "9188685d",
   "metadata": {},
   "outputs": [
    {
     "name": "stdout",
     "output_type": "stream",
     "text": [
      "[200, 400, 600]\n"
     ]
    }
   ],
   "source": [
    "bonuses = [100, 200, 300]\n",
    "\n",
    "new_bonuses = []\n",
    "\n",
    "for bonus in bonuses:\n",
    "    new_bonuses.append(bonus*2)\n",
    "\n",
    "print(new_bonuses)\n"
   ]
  },
  {
   "cell_type": "code",
   "execution_count": 147,
   "id": "735ead0f",
   "metadata": {},
   "outputs": [],
   "source": [
    "def double(bonus):\n",
    "    return bonus * 2\n",
    "\n",
    "\n",
    "bonuses = [100, 200, 300]\n",
    "\n",
    "iterator = map(double, bonuses)"
   ]
  },
  {
   "cell_type": "code",
   "execution_count": 148,
   "id": "c4259cd6",
   "metadata": {},
   "outputs": [],
   "source": [
    "bonuses = [100, 200, 300]\n",
    "iterator = map(lambda bonus: bonus*2, bonuses)\n"
   ]
  },
  {
   "cell_type": "code",
   "execution_count": 149,
   "id": "703c4153",
   "metadata": {},
   "outputs": [
    {
     "name": "stdout",
     "output_type": "stream",
     "text": [
      "[200, 400, 600]\n"
     ]
    }
   ],
   "source": [
    "bonuses = [100, 200, 300]\n",
    "iterator = map(lambda bonus: bonus*2, bonuses)\n",
    "print(list(iterator))\n",
    "\n"
   ]
  },
  {
   "cell_type": "code",
   "execution_count": 150,
   "id": "e6db9865",
   "metadata": {},
   "outputs": [],
   "source": [
    "carts = [['SmartPhone', 400],\n",
    "         ['Tablet', 450],\n",
    "         ['Laptop', 700]]"
   ]
  },
  {
   "cell_type": "code",
   "execution_count": 151,
   "id": "cac0e2c2",
   "metadata": {},
   "outputs": [
    {
     "data": {
      "text/plain": [
       "[['SmartPhone', 400, 40.0], ['Tablet', 450, 45.0], ['Laptop', 700, 70.0]]"
      ]
     },
     "execution_count": 151,
     "metadata": {},
     "output_type": "execute_result"
    }
   ],
   "source": [
    "[['SmartPhone', 400, 40.0],\n",
    "['Tablet', 450, 45.0],\n",
    "['Laptop', 700, 70.0]]"
   ]
  },
  {
   "cell_type": "code",
   "execution_count": 152,
   "id": "46ba1aee",
   "metadata": {},
   "outputs": [
    {
     "name": "stdout",
     "output_type": "stream",
     "text": [
      "[['SmartPhone', 400, 40.0], ['Tablet', 450, 45.0], ['Laptop', 700, 70.0]]\n"
     ]
    }
   ],
   "source": [
    "carts = [['SmartPhone', 400],\n",
    "         ['Tablet', 450],\n",
    "         ['Laptop', 700]]\n",
    "\n",
    "TAX = 0.1\n",
    "carts = map(lambda item: [item[0], item[1], item[1] * TAX], carts)\n",
    "\n",
    "print(list(carts))"
   ]
  },
  {
   "cell_type": "code",
   "execution_count": 153,
   "id": "1eff9524",
   "metadata": {},
   "outputs": [
    {
     "name": "stdout",
     "output_type": "stream",
     "text": [
      "[70, 80, 90]\n"
     ]
    }
   ],
   "source": [
    "scores = [70, 60, 80, 90, 50]\n",
    "\n",
    "filtered = []\n",
    "\n",
    "for score in scores:\n",
    "    if score >= 70:\n",
    "        filtered.append(score)\n",
    "\n",
    "print(filtered)"
   ]
  },
  {
   "cell_type": "code",
   "execution_count": 154,
   "id": "158245de",
   "metadata": {},
   "outputs": [
    {
     "name": "stdout",
     "output_type": "stream",
     "text": [
      "[70, 80, 90]\n"
     ]
    }
   ],
   "source": [
    "scores = [70, 60, 80, 90, 50]\n",
    "filtered = filter(lambda score: score >= 70, scores)\n",
    "\n",
    "print(list(filtered))\n"
   ]
  },
  {
   "cell_type": "code",
   "execution_count": 155,
   "id": "2338585b",
   "metadata": {},
   "outputs": [
    {
     "name": "stdout",
     "output_type": "stream",
     "text": [
      "[['China', 1394015977], ['United States', 329877505], ['India', 1326093247]]\n"
     ]
    }
   ],
   "source": [
    "countries = [\n",
    "    ['China', 1394015977],\n",
    "    ['United States', 329877505],\n",
    "    ['India', 1326093247],\n",
    "    ['Indonesia', 267026366],\n",
    "    ['Bangladesh', 162650853],\n",
    "    ['Pakistan', 233500636],\n",
    "    ['Nigeria', 214028302],\n",
    "    ['Brazil', 21171597],\n",
    "    ['Russia', 141722205],\n",
    "    ['Mexico', 128649565]\n",
    "]\n",
    "\n",
    "populated = filter(lambda c: c[1] > 300000000, countries)\n",
    "\n",
    "print(list(populated))\n"
   ]
  },
  {
   "cell_type": "code",
   "execution_count": 156,
   "id": "df9297d0",
   "metadata": {},
   "outputs": [
    {
     "name": "stdout",
     "output_type": "stream",
     "text": [
      "365\n"
     ]
    }
   ],
   "source": [
    "scores = [75, 65, 80, 95, 50]\n",
    "\n",
    "total = 0\n",
    "\n",
    "for score in scores:\n",
    "    total += score\n",
    "\n",
    "print(total)\n"
   ]
  },
  {
   "cell_type": "code",
   "execution_count": 157,
   "id": "4ee21f6e",
   "metadata": {},
   "outputs": [
    {
     "name": "stdout",
     "output_type": "stream",
     "text": [
      "a=75, b=65, 75 + 65 =140\n",
      "a=140, b=80, 140 + 80 =220\n",
      "a=220, b=95, 220 + 95 =315\n",
      "a=315, b=50, 315 + 50 =365\n",
      "365\n"
     ]
    }
   ],
   "source": [
    "from functools import reduce\n",
    "\n",
    "def sum(a, b):\n",
    "    print(f\"a={a}, b={b}, {a} + {b} ={a+b}\")\n",
    "    return a + b\n",
    "\n",
    "\n",
    "scores = [75, 65, 80, 95, 50]\n",
    "total = reduce(sum, scores)\n",
    "print(total)\n"
   ]
  },
  {
   "cell_type": "code",
   "execution_count": 158,
   "id": "bb7d248a",
   "metadata": {},
   "outputs": [
    {
     "name": "stdout",
     "output_type": "stream",
     "text": [
      "365\n"
     ]
    }
   ],
   "source": [
    "from functools import reduce\n",
    "\n",
    "scores = [75, 65, 80, 95, 50]\n",
    "\n",
    "total = reduce(lambda a, b: a + b, scores)\n",
    "\n",
    "print(total)"
   ]
  },
  {
   "cell_type": "code",
   "execution_count": 159,
   "id": "af901d0f",
   "metadata": {},
   "outputs": [
    {
     "name": "stdout",
     "output_type": "stream",
     "text": [
      "[1, 4, 9, 16, 25]\n"
     ]
    }
   ],
   "source": [
    "numbers = [1, 2, 3, 4, 5]\n",
    "\n",
    "squares = []\n",
    "for number in numbers:\n",
    "    squares.append(number**2)\n",
    "\n",
    "print(squares)\n"
   ]
  },
  {
   "cell_type": "code",
   "execution_count": 160,
   "id": "b1ca559d",
   "metadata": {},
   "outputs": [
    {
     "name": "stdout",
     "output_type": "stream",
     "text": [
      "[1, 4, 9, 16, 25]\n"
     ]
    }
   ],
   "source": [
    "numbers = [1, 2, 3, 4, 5]\n",
    "\n",
    "squares = list(map(lambda number: number**2, numbers))\n",
    "\n",
    "print(squares)\n"
   ]
  },
  {
   "cell_type": "code",
   "execution_count": 161,
   "id": "b0743bdf",
   "metadata": {},
   "outputs": [
    {
     "name": "stdout",
     "output_type": "stream",
     "text": [
      "[['K2', 8611], ['Everest', 8848]]\n"
     ]
    }
   ],
   "source": [
    "mountains = [\n",
    "    ['Makalu', 8485],\n",
    "    ['Lhotse', 8516],\n",
    "    ['Kanchendzonga', 8586],\n",
    "    ['K2', 8611],\n",
    "    ['Everest', 8848]\n",
    "]\n",
    "\n",
    "\n",
    "highest_mountains = list(filter(lambda m: m[1] > 8600, mountains))\n",
    "\n",
    "print(highest_mountains)"
   ]
  },
  {
   "cell_type": "code",
   "execution_count": 162,
   "id": "1d35ff79",
   "metadata": {},
   "outputs": [
    {
     "name": "stdout",
     "output_type": "stream",
     "text": [
      "[['K2', 8611], ['Everest', 8848]]\n"
     ]
    }
   ],
   "source": [
    "mountains = [\n",
    "    ['Makalu', 8485],\n",
    "    ['Lhotse', 8516],\n",
    "    ['Kanchendzonga', 8586],\n",
    "    ['K2', 8611],\n",
    "    ['Everest', 8848]\n",
    "]\n",
    "\n",
    "highest_mountains = [m for m in mountains if m[1] > 8600]\n",
    "\n",
    "print(highest_mountains)"
   ]
  },
  {
   "cell_type": "code",
   "execution_count": 163,
   "id": "05984a9b",
   "metadata": {},
   "outputs": [
    {
     "name": "stdout",
     "output_type": "stream",
     "text": [
      "Lakshmidhar\n",
      "Kotipalli\n"
     ]
    }
   ],
   "source": [
    "person = {\n",
    "    'first_name': 'Lakshmidhar',\n",
    "    'last_name': 'Kotipalli',\n",
    "    'age': 25,\n",
    "    'favorite_colors': ['blue', 'green'],\n",
    "    'active': True\n",
    "}\n",
    "print(person['first_name'])\n",
    "print(person['last_name'])"
   ]
  },
  {
   "cell_type": "code",
   "execution_count": 164,
   "id": "5d0a8475",
   "metadata": {},
   "outputs": [
    {
     "ename": "KeyError",
     "evalue": "'ssn'",
     "output_type": "error",
     "traceback": [
      "\u001b[1;31m---------------------------------------------------------------------------\u001b[0m",
      "\u001b[1;31mKeyError\u001b[0m                                  Traceback (most recent call last)",
      "\u001b[1;32mc:\\Users\\Lakshmidhar Kotipall\\OneDrive - Umich\\Desktop\\Master's\\Pattern recognition and neural networks\\Assignments\\HW2\\python-tutorial-1-10.ipynb Cell 164\u001b[0m line \u001b[0;36m<cell line: 9>\u001b[1;34m()\u001b[0m\n\u001b[0;32m      <a href='vscode-notebook-cell:/c%3A/Users/Lakshmidhar%20Kotipall/OneDrive%20-%20Umich/Desktop/Master%27s/Pattern%20recognition%20and%20neural%20networks/Assignments/HW2/python-tutorial-1-10.ipynb#Y322sZmlsZQ%3D%3D?line=0'>1</a>\u001b[0m person \u001b[39m=\u001b[39m {\n\u001b[0;32m      <a href='vscode-notebook-cell:/c%3A/Users/Lakshmidhar%20Kotipall/OneDrive%20-%20Umich/Desktop/Master%27s/Pattern%20recognition%20and%20neural%20networks/Assignments/HW2/python-tutorial-1-10.ipynb#Y322sZmlsZQ%3D%3D?line=1'>2</a>\u001b[0m     \u001b[39m'\u001b[39m\u001b[39mfirst_name\u001b[39m\u001b[39m'\u001b[39m: \u001b[39m'\u001b[39m\u001b[39mLakshmidhar\u001b[39m\u001b[39m'\u001b[39m,\n\u001b[0;32m      <a href='vscode-notebook-cell:/c%3A/Users/Lakshmidhar%20Kotipall/OneDrive%20-%20Umich/Desktop/Master%27s/Pattern%20recognition%20and%20neural%20networks/Assignments/HW2/python-tutorial-1-10.ipynb#Y322sZmlsZQ%3D%3D?line=2'>3</a>\u001b[0m     \u001b[39m'\u001b[39m\u001b[39mlast_name\u001b[39m\u001b[39m'\u001b[39m: \u001b[39m'\u001b[39m\u001b[39mKotipalli\u001b[39m\u001b[39m'\u001b[39m,\n\u001b[1;32m   (...)\u001b[0m\n\u001b[0;32m      <a href='vscode-notebook-cell:/c%3A/Users/Lakshmidhar%20Kotipall/OneDrive%20-%20Umich/Desktop/Master%27s/Pattern%20recognition%20and%20neural%20networks/Assignments/HW2/python-tutorial-1-10.ipynb#Y322sZmlsZQ%3D%3D?line=5'>6</a>\u001b[0m     \u001b[39m'\u001b[39m\u001b[39mactive\u001b[39m\u001b[39m'\u001b[39m: \u001b[39mTrue\u001b[39;00m\n\u001b[0;32m      <a href='vscode-notebook-cell:/c%3A/Users/Lakshmidhar%20Kotipall/OneDrive%20-%20Umich/Desktop/Master%27s/Pattern%20recognition%20and%20neural%20networks/Assignments/HW2/python-tutorial-1-10.ipynb#Y322sZmlsZQ%3D%3D?line=6'>7</a>\u001b[0m }\n\u001b[1;32m----> <a href='vscode-notebook-cell:/c%3A/Users/Lakshmidhar%20Kotipall/OneDrive%20-%20Umich/Desktop/Master%27s/Pattern%20recognition%20and%20neural%20networks/Assignments/HW2/python-tutorial-1-10.ipynb#Y322sZmlsZQ%3D%3D?line=8'>9</a>\u001b[0m ssn \u001b[39m=\u001b[39m person[\u001b[39m'\u001b[39;49m\u001b[39mssn\u001b[39;49m\u001b[39m'\u001b[39;49m]\n",
      "\u001b[1;31mKeyError\u001b[0m: 'ssn'"
     ]
    }
   ],
   "source": [
    "person = {\n",
    "    'first_name': 'Lakshmidhar',\n",
    "    'last_name': 'Kotipalli',\n",
    "    'age': 25,\n",
    "    'favorite_colors': ['blue', 'green'],\n",
    "    'active': True\n",
    "}\n",
    "\n",
    "ssn = person['ssn']"
   ]
  },
  {
   "cell_type": "code",
   "execution_count": 165,
   "id": "9fba9e29",
   "metadata": {},
   "outputs": [
    {
     "name": "stdout",
     "output_type": "stream",
     "text": [
      "None\n"
     ]
    }
   ],
   "source": [
    "person = {\n",
    "    'first_name': 'Lakshmidhar',\n",
    "    'last_name': 'Kotipalli',\n",
    "    'age': 25,\n",
    "    'favorite_colors': ['blue', 'green'],\n",
    "    'active': True\n",
    "}\n",
    "\n",
    "ssn = person.get('ssn')\n",
    "print(ssn)\n"
   ]
  },
  {
   "cell_type": "code",
   "execution_count": 166,
   "id": "70c744e3",
   "metadata": {},
   "outputs": [
    {
     "name": "stdout",
     "output_type": "stream",
     "text": [
      "00-45650-1265\n"
     ]
    }
   ],
   "source": [
    "person = {\n",
    "    'first_name': 'Lakshmidhar',\n",
    "    'last_name': 'Kotipalli',\n",
    "    'age': 25,\n",
    "    'favorite_colors': ['blue', 'green'],\n",
    "    'active': True\n",
    "}\n",
    "\n",
    "ssn = person.get('ssn','00-45650-1265')\n",
    "print(ssn)\n"
   ]
  },
  {
   "cell_type": "code",
   "execution_count": 167,
   "id": "d59d9e9c",
   "metadata": {},
   "outputs": [],
   "source": [
    "person['gender'] = 'Male'\n"
   ]
  },
  {
   "cell_type": "code",
   "execution_count": 168,
   "id": "e90a7bc1",
   "metadata": {},
   "outputs": [
    {
     "name": "stdout",
     "output_type": "stream",
     "text": [
      "{'first_name': 'Lakshmidhar', 'last_name': 'Kotipalli', 'age': 26, 'favorite_colors': ['blue', 'green'], 'active': True}\n"
     ]
    }
   ],
   "source": [
    "person = {\n",
    "    'first_name': 'Lakshmidhar',\n",
    "    'last_name': 'Kotipalli',\n",
    "    'age': 25,\n",
    "    'favorite_colors': ['blue', 'green'],\n",
    "    'active': True\n",
    "}\n",
    "\n",
    "person['age'] = 26\n",
    "\n",
    "print(person)"
   ]
  },
  {
   "cell_type": "code",
   "execution_count": 169,
   "id": "54a4b687",
   "metadata": {},
   "outputs": [
    {
     "name": "stdout",
     "output_type": "stream",
     "text": [
      "{'first_name': 'Lakshmidhar', 'last_name': 'Kotipalli', 'age': 25, 'favorite_colors': ['blue', 'green']}\n"
     ]
    }
   ],
   "source": [
    "person = {\n",
    "    'first_name': 'Lakshmidhar',\n",
    "    'last_name': 'Kotipalli',\n",
    "    'age': 25,\n",
    "    'favorite_colors': ['blue', 'green'],\n",
    "    'active': True\n",
    "}\n",
    "del person['active']\n",
    "print(person)"
   ]
  },
  {
   "cell_type": "code",
   "execution_count": 170,
   "id": "671ea6ad",
   "metadata": {},
   "outputs": [
    {
     "name": "stdout",
     "output_type": "stream",
     "text": [
      "dict_items([('first_name', 'Lakshmidhar'), ('last_name', 'Kotipalli'), ('age', 25), ('favorite_colors', ['blue', 'green']), ('active', True)])\n"
     ]
    }
   ],
   "source": [
    "person = {\n",
    "    'first_name': 'Lakshmidhar',\n",
    "    'last_name': 'Kotipalli',\n",
    "    'age': 25,\n",
    "    'favorite_colors': ['blue', 'green'],\n",
    "    'active': True\n",
    "}\n",
    "print(person.items())"
   ]
  },
  {
   "cell_type": "code",
   "execution_count": 171,
   "id": "8a377f6c",
   "metadata": {},
   "outputs": [
    {
     "name": "stdout",
     "output_type": "stream",
     "text": [
      "first_name: Lakshmidhar\n",
      "last_name: Kotipalli\n",
      "age: 25\n",
      "favorite_colors: ['blue', 'green']\n",
      "active: True\n"
     ]
    }
   ],
   "source": [
    "person = {\n",
    "    'first_name': 'Lakshmidhar',\n",
    "    'last_name': 'Kotipalli',\n",
    "    'age': 25,\n",
    "    'favorite_colors': ['blue', 'green'],\n",
    "    'active': True\n",
    "}\n",
    "\n",
    "for key, value in person.items():\n",
    "    print(f\"{key}: {value}\")"
   ]
  },
  {
   "cell_type": "code",
   "execution_count": 172,
   "id": "ff677c28",
   "metadata": {},
   "outputs": [
    {
     "name": "stdout",
     "output_type": "stream",
     "text": [
      "{'AAPL': 123.42, 'AMZN': 3447.6, 'MSFT': 223.38, 'BIIB': 285.6, 'QDEL': 271.32, 'LVGO': 146.88}\n"
     ]
    }
   ],
   "source": [
    "stocks = {\n",
    "    'AAPL': 121,\n",
    "    'AMZN': 3380,\n",
    "    'MSFT': 219,\n",
    "    'BIIB': 280,\n",
    "    'QDEL': 266,\n",
    "    'LVGO': 144\n",
    "}\n",
    "\n",
    "new_stocks = {}\n",
    "for symbol, price in stocks.items():\n",
    "    new_stocks[symbol] = price*1.02\n",
    "\n",
    "print(new_stocks)\n"
   ]
  },
  {
   "cell_type": "code",
   "execution_count": 173,
   "id": "e1e29d47",
   "metadata": {},
   "outputs": [
    {
     "name": "stdout",
     "output_type": "stream",
     "text": [
      "{'AAPL': 123.42, 'AMZN': 3447.6, 'MSFT': 223.38, 'BIIB': 285.6, 'QDEL': 271.32, 'LVGO': 146.88}\n"
     ]
    }
   ],
   "source": [
    "stocks = {\n",
    "    'AAPL': 121,\n",
    "    'AMZN': 3380,\n",
    "    'MSFT': 219,\n",
    "    'BIIB': 280,\n",
    "    'QDEL': 266,\n",
    "    'LVGO': 144\n",
    "}\n",
    "\n",
    "new_stocks = {symbol: price * 1.02 for (symbol, price) in stocks.items()}\n",
    "\n",
    "print(new_stocks)\n"
   ]
  },
  {
   "cell_type": "code",
   "execution_count": 174,
   "id": "58c8d3bc",
   "metadata": {},
   "outputs": [
    {
     "name": "stdout",
     "output_type": "stream",
     "text": [
      "{'AMZN': 3380, 'MSFT': 219, 'BIIB': 280, 'QDEL': 266}\n"
     ]
    }
   ],
   "source": [
    "stocks = {\n",
    "    'AAPL': 121,\n",
    "    'AMZN': 3380,\n",
    "    'MSFT': 219,\n",
    "    'BIIB': 280,\n",
    "    'QDEL': 266,\n",
    "    'LVGO': 144\n",
    "}\n",
    "\n",
    "selected_stocks = {}\n",
    "for symbol, price in stocks.items():\n",
    "    if price > 200:\n",
    "        selected_stocks[symbol] = price\n",
    "\n",
    "print(selected_stocks)\n"
   ]
  },
  {
   "cell_type": "code",
   "execution_count": 175,
   "id": "2822937b",
   "metadata": {},
   "outputs": [],
   "source": [
    "skills = {'Python programming','Databases', 'Software design'}"
   ]
  },
  {
   "cell_type": "code",
   "execution_count": 176,
   "id": "aaf8b465",
   "metadata": {},
   "outputs": [
    {
     "name": "stdout",
     "output_type": "stream",
     "text": [
      "Empty sets are falsy\n"
     ]
    }
   ],
   "source": [
    "skills = set()\n",
    "\n",
    "if not skills:\n",
    "    print('Empty sets are falsy')\n"
   ]
  },
  {
   "cell_type": "code",
   "execution_count": 177,
   "id": "512e7676",
   "metadata": {},
   "outputs": [
    {
     "name": "stdout",
     "output_type": "stream",
     "text": [
      "{'Problem solving', 'Critical Thinking'}\n"
     ]
    }
   ],
   "source": [
    "skills = set(['Problem solving','Critical Thinking'])\n",
    "print(skills)"
   ]
  },
  {
   "cell_type": "code",
   "execution_count": 178,
   "id": "66c3bd35",
   "metadata": {},
   "outputs": [
    {
     "name": "stdout",
     "output_type": "stream",
     "text": [
      "{'e', 'r', 'l', 't'}\n"
     ]
    }
   ],
   "source": [
    "characters = set('letter')\n",
    "print(characters)"
   ]
  },
  {
   "cell_type": "code",
   "execution_count": 179,
   "id": "96e3cb50",
   "metadata": {},
   "outputs": [
    {
     "name": "stdout",
     "output_type": "stream",
     "text": [
      "5\n"
     ]
    }
   ],
   "source": [
    "ratings = {1, 2, 3, 4, 5}\n",
    "size = len(ratings)\n",
    "\n",
    "print(size)    "
   ]
  },
  {
   "cell_type": "code",
   "execution_count": 180,
   "id": "83df37a7",
   "metadata": {},
   "outputs": [
    {
     "name": "stdout",
     "output_type": "stream",
     "text": [
      "The set contains 1\n"
     ]
    }
   ],
   "source": [
    "ratings = {1, 2, 3, 4, 5}\n",
    "rating = 1\n",
    "\n",
    "if rating in ratings:\n",
    "    print(f'The set contains {rating}')"
   ]
  },
  {
   "cell_type": "code",
   "execution_count": 181,
   "id": "ee90dfae",
   "metadata": {},
   "outputs": [
    {
     "name": "stdout",
     "output_type": "stream",
     "text": [
      "The set does not contain 6\n"
     ]
    }
   ],
   "source": [
    "ratings = {1, 2, 3, 4, 5}\n",
    "rating = 6\n",
    "\n",
    "if rating not in ratings:\n",
    "    print(f'The set does not contain {rating}')\n"
   ]
  },
  {
   "cell_type": "code",
   "execution_count": 182,
   "id": "4dee283a",
   "metadata": {},
   "outputs": [
    {
     "name": "stdout",
     "output_type": "stream",
     "text": [
      "{'Problem solving', 'Python programming', 'Software design'}\n"
     ]
    }
   ],
   "source": [
    "skills = {'Python programming', 'Software design'}\n",
    "skills.add('Problem solving')\n",
    "\n",
    "print(skills)\n"
   ]
  },
  {
   "cell_type": "code",
   "execution_count": 183,
   "id": "3bae794e",
   "metadata": {},
   "outputs": [
    {
     "name": "stdout",
     "output_type": "stream",
     "text": [
      "{'Problem solving', 'Python programming'}\n"
     ]
    }
   ],
   "source": [
    "skills = {'Problem solving', 'Software design', 'Python programming'}\n",
    "skills.remove('Software design')\n",
    "\n",
    "print(skills)"
   ]
  },
  {
   "cell_type": "code",
   "execution_count": 184,
   "id": "3686fe63",
   "metadata": {},
   "outputs": [
    {
     "ename": "KeyError",
     "evalue": "'Java'",
     "output_type": "error",
     "traceback": [
      "\u001b[1;31m---------------------------------------------------------------------------\u001b[0m",
      "\u001b[1;31mKeyError\u001b[0m                                  Traceback (most recent call last)",
      "\u001b[1;32mc:\\Users\\Lakshmidhar Kotipall\\OneDrive - Umich\\Desktop\\Master's\\Pattern recognition and neural networks\\Assignments\\HW2\\python-tutorial-1-10.ipynb Cell 184\u001b[0m line \u001b[0;36m<cell line: 2>\u001b[1;34m()\u001b[0m\n\u001b[0;32m      <a href='vscode-notebook-cell:/c%3A/Users/Lakshmidhar%20Kotipall/OneDrive%20-%20Umich/Desktop/Master%27s/Pattern%20recognition%20and%20neural%20networks/Assignments/HW2/python-tutorial-1-10.ipynb#Y351sZmlsZQ%3D%3D?line=0'>1</a>\u001b[0m skills \u001b[39m=\u001b[39m {\u001b[39m'\u001b[39m\u001b[39mProblem solving\u001b[39m\u001b[39m'\u001b[39m, \u001b[39m'\u001b[39m\u001b[39mSoftware design\u001b[39m\u001b[39m'\u001b[39m, \u001b[39m'\u001b[39m\u001b[39mPython programming\u001b[39m\u001b[39m'\u001b[39m}\n\u001b[1;32m----> <a href='vscode-notebook-cell:/c%3A/Users/Lakshmidhar%20Kotipall/OneDrive%20-%20Umich/Desktop/Master%27s/Pattern%20recognition%20and%20neural%20networks/Assignments/HW2/python-tutorial-1-10.ipynb#Y351sZmlsZQ%3D%3D?line=1'>2</a>\u001b[0m skills\u001b[39m.\u001b[39;49mremove(\u001b[39m'\u001b[39;49m\u001b[39mJava\u001b[39;49m\u001b[39m'\u001b[39;49m)\n",
      "\u001b[1;31mKeyError\u001b[0m: 'Java'"
     ]
    }
   ],
   "source": [
    "skills = {'Problem solving', 'Software design', 'Python programming'}\n",
    "skills.remove('Java')\n"
   ]
  },
  {
   "cell_type": "code",
   "execution_count": 201,
   "id": "1f02b4c9",
   "metadata": {},
   "outputs": [],
   "source": [
    "skills = {'Problem solving', 'Software design', 'Python programming'}\n",
    "if 'Java' in skills:\n",
    "    skills.remove('Java')\n"
   ]
  },
  {
   "cell_type": "code",
   "execution_count": 202,
   "id": "4788d511",
   "metadata": {},
   "outputs": [],
   "source": [
    "skills = {'Problem solving', 'Software design', 'Python programming'}\n",
    "skills.discard('Java')\n"
   ]
  },
  {
   "cell_type": "code",
   "execution_count": 203,
   "id": "4059d10d",
   "metadata": {},
   "outputs": [
    {
     "name": "stdout",
     "output_type": "stream",
     "text": [
      "Problem solving\n"
     ]
    }
   ],
   "source": [
    "skills = {'Problem solving', 'Software design', 'Python programming'}\n",
    "skill = skills.pop()\n",
    "\n",
    "print(skill)\n"
   ]
  },
  {
   "cell_type": "code",
   "execution_count": 204,
   "id": "b67c98b7",
   "metadata": {},
   "outputs": [
    {
     "name": "stdout",
     "output_type": "stream",
     "text": [
      "set()\n"
     ]
    }
   ],
   "source": [
    "skills = {'Problem solving', 'Software design', 'Python programming'}\n",
    "skills.clear()\n",
    "\n",
    "print(skills)\n"
   ]
  },
  {
   "cell_type": "code",
   "execution_count": 205,
   "id": "0f96dccf",
   "metadata": {},
   "outputs": [
    {
     "name": "stdout",
     "output_type": "stream",
     "text": [
      "Problem solving\n",
      "Python programming\n",
      "Software design\n"
     ]
    }
   ],
   "source": [
    "skills = {'Problem solving', 'Software design', 'Python programming'}\n",
    "\n",
    "for skill in skills:\n",
    "    print(skill)\n"
   ]
  },
  {
   "cell_type": "code",
   "execution_count": 206,
   "id": "e6c72370",
   "metadata": {},
   "outputs": [
    {
     "name": "stdout",
     "output_type": "stream",
     "text": [
      "0.Problem solving\n",
      "1.Python programming\n",
      "2.Software design\n"
     ]
    }
   ],
   "source": [
    "skills = {'Problem solving', 'Software design', 'Python programming'}\n",
    "\n",
    "for index, skill in enumerate(skills):\n",
    "    print(f\"{index}.{skill}\")\n"
   ]
  },
  {
   "cell_type": "code",
   "execution_count": 207,
   "id": "5b853538",
   "metadata": {},
   "outputs": [
    {
     "name": "stdout",
     "output_type": "stream",
     "text": [
      "1.Problem solving\n",
      "2.Python programming\n",
      "3.Software design\n"
     ]
    }
   ],
   "source": [
    "skills = {'Problem solving', 'Software design', 'Python programming'}\n",
    "\n",
    "for index, skill in enumerate(skills, 1):\n",
    "    print(f\"{index}.{skill}\")"
   ]
  },
  {
   "cell_type": "code",
   "execution_count": 208,
   "id": "937ce9f4",
   "metadata": {},
   "outputs": [
    {
     "name": "stdout",
     "output_type": "stream",
     "text": [
      "{'numpy', 'django', 'pandas'}\n"
     ]
    }
   ],
   "source": [
    "tags = {'Django', 'Pandas', 'Numpy'}\n",
    "\n",
    "lowercase_tags = set()\n",
    "for tag in tags:\n",
    "    lowercase_tags.add(tag.lower())\n",
    "\n",
    "print(lowercase_tags)"
   ]
  },
  {
   "cell_type": "code",
   "execution_count": 209,
   "id": "b323aea2",
   "metadata": {},
   "outputs": [
    {
     "name": "stdout",
     "output_type": "stream",
     "text": [
      "{'numpy', 'django', 'pandas'}\n"
     ]
    }
   ],
   "source": [
    "tags = {'Django', 'Pandas', 'Numpy'}\n",
    "lowercase_tags = set(map(lambda tag: tag.lower(), tags))\n",
    "\n",
    "print(lowercase_tags)"
   ]
  },
  {
   "cell_type": "code",
   "execution_count": 210,
   "id": "d7b59462",
   "metadata": {},
   "outputs": [
    {
     "name": "stdout",
     "output_type": "stream",
     "text": [
      "{'numpy', 'django', 'pandas'}\n"
     ]
    }
   ],
   "source": [
    "tags = {'Django', 'Pandas', 'Numpy'}\n",
    "lowercase_tags = {tag.lower() for tag in tags}\n",
    "\n",
    "print(lowercase_tags)"
   ]
  },
  {
   "cell_type": "code",
   "execution_count": 211,
   "id": "7040482d",
   "metadata": {},
   "outputs": [
    {
     "name": "stdout",
     "output_type": "stream",
     "text": [
      "{'django', 'pandas'}\n"
     ]
    }
   ],
   "source": [
    "tags = {'Django', 'Pandas', 'Numpy'}\n",
    "new_tags = {tag.lower() for tag in tags if tag != 'Numpy'}\n",
    "\n",
    "print(new_tags)\n"
   ]
  },
  {
   "cell_type": "code",
   "execution_count": 212,
   "id": "bb56ae16",
   "metadata": {},
   "outputs": [],
   "source": [
    "s1 = {'Python', 'Java'}\n",
    "s2 = {'C#', 'Java'}"
   ]
  },
  {
   "cell_type": "code",
   "execution_count": 213,
   "id": "726612f7",
   "metadata": {},
   "outputs": [
    {
     "name": "stdout",
     "output_type": "stream",
     "text": [
      "{'Java', 'Python', 'C#'}\n"
     ]
    }
   ],
   "source": [
    "s1 = {'Python', 'Java'}\n",
    "s2 = {'C#', 'Java'}\n",
    "\n",
    "s = s1.union(s2)\n",
    "\n",
    "print(s)"
   ]
  },
  {
   "cell_type": "code",
   "execution_count": 214,
   "id": "cbd785f0",
   "metadata": {},
   "outputs": [
    {
     "name": "stdout",
     "output_type": "stream",
     "text": [
      "{'Java', 'Python', 'C#'}\n"
     ]
    }
   ],
   "source": [
    "s1 = {'Python', 'Java'}\n",
    "s2 = {'C#', 'Java'}\n",
    "\n",
    "s = s1 | s2\n",
    "\n",
    "print(s)"
   ]
  },
  {
   "cell_type": "code",
   "execution_count": 215,
   "id": "020ee443",
   "metadata": {},
   "outputs": [
    {
     "name": "stdout",
     "output_type": "stream",
     "text": [
      "{1, 2, 3, 4}\n"
     ]
    }
   ],
   "source": [
    "rates = {1, 2, 3}\n",
    "ranks = [2, 3, 4]\n",
    "\n",
    "ratings = rates.union(ranks)\n",
    "\n",
    "print(ratings)"
   ]
  },
  {
   "cell_type": "code",
   "execution_count": 216,
   "id": "84559bbc",
   "metadata": {},
   "outputs": [
    {
     "ename": "TypeError",
     "evalue": "unsupported operand type(s) for |: 'set' and 'list'",
     "output_type": "error",
     "traceback": [
      "\u001b[1;31m---------------------------------------------------------------------------\u001b[0m",
      "\u001b[1;31mTypeError\u001b[0m                                 Traceback (most recent call last)",
      "\u001b[1;32mc:\\Users\\Lakshmidhar Kotipall\\OneDrive - Umich\\Desktop\\Master's\\Pattern recognition and neural networks\\Assignments\\HW2\\python-tutorial-1-10.ipynb Cell 200\u001b[0m line \u001b[0;36m<cell line: 4>\u001b[1;34m()\u001b[0m\n\u001b[0;32m      <a href='vscode-notebook-cell:/c%3A/Users/Lakshmidhar%20Kotipall/OneDrive%20-%20Umich/Desktop/Master%27s/Pattern%20recognition%20and%20neural%20networks/Assignments/HW2/python-tutorial-1-10.ipynb#Y403sZmlsZQ%3D%3D?line=0'>1</a>\u001b[0m rates \u001b[39m=\u001b[39m {\u001b[39m1\u001b[39m, \u001b[39m2\u001b[39m, \u001b[39m3\u001b[39m}\n\u001b[0;32m      <a href='vscode-notebook-cell:/c%3A/Users/Lakshmidhar%20Kotipall/OneDrive%20-%20Umich/Desktop/Master%27s/Pattern%20recognition%20and%20neural%20networks/Assignments/HW2/python-tutorial-1-10.ipynb#Y403sZmlsZQ%3D%3D?line=1'>2</a>\u001b[0m ranks \u001b[39m=\u001b[39m [\u001b[39m2\u001b[39m, \u001b[39m3\u001b[39m, \u001b[39m4\u001b[39m]\n\u001b[1;32m----> <a href='vscode-notebook-cell:/c%3A/Users/Lakshmidhar%20Kotipall/OneDrive%20-%20Umich/Desktop/Master%27s/Pattern%20recognition%20and%20neural%20networks/Assignments/HW2/python-tutorial-1-10.ipynb#Y403sZmlsZQ%3D%3D?line=3'>4</a>\u001b[0m ratings \u001b[39m=\u001b[39m rates \u001b[39m|\u001b[39;49m ranks\n",
      "\u001b[1;31mTypeError\u001b[0m: unsupported operand type(s) for |: 'set' and 'list'"
     ]
    }
   ],
   "source": [
    "rates = {1, 2, 3}\n",
    "ranks = [2, 3, 4]\n",
    "\n",
    "ratings = rates | ranks"
   ]
  },
  {
   "cell_type": "code",
   "execution_count": 217,
   "id": "a93162c5",
   "metadata": {},
   "outputs": [
    {
     "name": "stdout",
     "output_type": "stream",
     "text": [
      "{'Java', 'C++'}\n"
     ]
    }
   ],
   "source": [
    "s1 = {'Python', 'Java', 'C++'}\n",
    "s2 = {'C#', 'Java', 'C++'}\n",
    "\n",
    "s = s1.intersection(s2)\n",
    "\n",
    "print(s)\n"
   ]
  },
  {
   "cell_type": "code",
   "execution_count": 218,
   "id": "70bb0bc1",
   "metadata": {},
   "outputs": [
    {
     "name": "stdout",
     "output_type": "stream",
     "text": [
      "{'Java', 'C++'}\n"
     ]
    }
   ],
   "source": [
    "s1 = {'Python', 'Java', 'C++'}\n",
    "s2 = {'C#', 'Java', 'C++'}\n",
    "\n",
    "s = s1 & s2\n",
    "\n",
    "print(s)"
   ]
  },
  {
   "cell_type": "code",
   "execution_count": 219,
   "id": "e604dd4b",
   "metadata": {},
   "outputs": [
    {
     "name": "stdout",
     "output_type": "stream",
     "text": [
      "{2, 3}\n"
     ]
    }
   ],
   "source": [
    "numbers = {1, 2, 3}\n",
    "scores = [2, 3, 4]\n",
    "\n",
    "numbers = numbers.intersection(scores)\n",
    "\n",
    "print(numbers)"
   ]
  },
  {
   "cell_type": "code",
   "execution_count": 220,
   "id": "05c66047",
   "metadata": {},
   "outputs": [
    {
     "ename": "TypeError",
     "evalue": "unsupported operand type(s) for &: 'set' and 'list'",
     "output_type": "error",
     "traceback": [
      "\u001b[1;31m---------------------------------------------------------------------------\u001b[0m",
      "\u001b[1;31mTypeError\u001b[0m                                 Traceback (most recent call last)",
      "\u001b[1;32mc:\\Users\\Lakshmidhar Kotipall\\OneDrive - Umich\\Desktop\\Master's\\Pattern recognition and neural networks\\Assignments\\HW2\\python-tutorial-1-10.ipynb Cell 204\u001b[0m line \u001b[0;36m<cell line: 4>\u001b[1;34m()\u001b[0m\n\u001b[0;32m      <a href='vscode-notebook-cell:/c%3A/Users/Lakshmidhar%20Kotipall/OneDrive%20-%20Umich/Desktop/Master%27s/Pattern%20recognition%20and%20neural%20networks/Assignments/HW2/python-tutorial-1-10.ipynb#Y410sZmlsZQ%3D%3D?line=0'>1</a>\u001b[0m numbers \u001b[39m=\u001b[39m {\u001b[39m1\u001b[39m, \u001b[39m2\u001b[39m, \u001b[39m3\u001b[39m}\n\u001b[0;32m      <a href='vscode-notebook-cell:/c%3A/Users/Lakshmidhar%20Kotipall/OneDrive%20-%20Umich/Desktop/Master%27s/Pattern%20recognition%20and%20neural%20networks/Assignments/HW2/python-tutorial-1-10.ipynb#Y410sZmlsZQ%3D%3D?line=1'>2</a>\u001b[0m scores \u001b[39m=\u001b[39m [\u001b[39m2\u001b[39m, \u001b[39m3\u001b[39m, \u001b[39m4\u001b[39m]\n\u001b[1;32m----> <a href='vscode-notebook-cell:/c%3A/Users/Lakshmidhar%20Kotipall/OneDrive%20-%20Umich/Desktop/Master%27s/Pattern%20recognition%20and%20neural%20networks/Assignments/HW2/python-tutorial-1-10.ipynb#Y410sZmlsZQ%3D%3D?line=3'>4</a>\u001b[0m numbers \u001b[39m=\u001b[39m numbers \u001b[39m&\u001b[39;49m scores\n\u001b[0;32m      <a href='vscode-notebook-cell:/c%3A/Users/Lakshmidhar%20Kotipall/OneDrive%20-%20Umich/Desktop/Master%27s/Pattern%20recognition%20and%20neural%20networks/Assignments/HW2/python-tutorial-1-10.ipynb#Y410sZmlsZQ%3D%3D?line=5'>6</a>\u001b[0m \u001b[39mprint\u001b[39m(numbers)\n",
      "\u001b[1;31mTypeError\u001b[0m: unsupported operand type(s) for &: 'set' and 'list'"
     ]
    }
   ],
   "source": [
    "numbers = {1, 2, 3}\n",
    "scores = [2, 3, 4]\n",
    "\n",
    "numbers = numbers & scores\n",
    "\n",
    "print(numbers)"
   ]
  },
  {
   "cell_type": "code",
   "execution_count": 221,
   "id": "820aed22",
   "metadata": {},
   "outputs": [
    {
     "name": "stdout",
     "output_type": "stream",
     "text": [
      "{'Python'}\n"
     ]
    }
   ],
   "source": [
    "s1 = {'Python', 'Java', 'C++'}\n",
    "s2 = {'C#', 'Java', 'C++'}\n",
    "s = s1.difference(s2)\n",
    "\n",
    "print(s)"
   ]
  },
  {
   "cell_type": "code",
   "execution_count": 222,
   "id": "ba5520b1",
   "metadata": {},
   "outputs": [
    {
     "name": "stdout",
     "output_type": "stream",
     "text": [
      "{'C#'}\n"
     ]
    }
   ],
   "source": [
    "s1 = {'Python', 'Java', 'C++'}\n",
    "s2 = {'C#', 'Java', 'C++'}\n",
    "s = s2.difference(s1)\n",
    "\n",
    "print(s)"
   ]
  },
  {
   "cell_type": "code",
   "execution_count": 223,
   "id": "43fcdf27",
   "metadata": {},
   "outputs": [
    {
     "name": "stdout",
     "output_type": "stream",
     "text": [
      "{'Python'}\n"
     ]
    }
   ],
   "source": [
    "s1 = {'Python', 'Java', 'C++'}\n",
    "s2 = {'C#', 'Java', 'C++'}\n",
    "s = s1 - s2\n",
    "\n",
    "print(s)"
   ]
  },
  {
   "cell_type": "code",
   "execution_count": 224,
   "id": "fa70ee41",
   "metadata": {},
   "outputs": [
    {
     "name": "stdout",
     "output_type": "stream",
     "text": [
      "{8, 7}\n"
     ]
    }
   ],
   "source": [
    "scores = {7, 8, 9}\n",
    "numbers = [9, 10]\n",
    "new_scores = scores.difference(numbers)\n",
    "\n",
    "print(new_scores)\n"
   ]
  },
  {
   "cell_type": "code",
   "execution_count": 225,
   "id": "6db57602",
   "metadata": {},
   "outputs": [
    {
     "ename": "TypeError",
     "evalue": "unsupported operand type(s) for -: 'set' and 'list'",
     "output_type": "error",
     "traceback": [
      "\u001b[1;31m---------------------------------------------------------------------------\u001b[0m",
      "\u001b[1;31mTypeError\u001b[0m                                 Traceback (most recent call last)",
      "\u001b[1;32mc:\\Users\\Lakshmidhar Kotipall\\OneDrive - Umich\\Desktop\\Master's\\Pattern recognition and neural networks\\Assignments\\HW2\\python-tutorial-1-10.ipynb Cell 209\u001b[0m line \u001b[0;36m<cell line: 3>\u001b[1;34m()\u001b[0m\n\u001b[0;32m      <a href='vscode-notebook-cell:/c%3A/Users/Lakshmidhar%20Kotipall/OneDrive%20-%20Umich/Desktop/Master%27s/Pattern%20recognition%20and%20neural%20networks/Assignments/HW2/python-tutorial-1-10.ipynb#Y415sZmlsZQ%3D%3D?line=0'>1</a>\u001b[0m scores \u001b[39m=\u001b[39m {\u001b[39m7\u001b[39m, \u001b[39m8\u001b[39m, \u001b[39m9\u001b[39m}\n\u001b[0;32m      <a href='vscode-notebook-cell:/c%3A/Users/Lakshmidhar%20Kotipall/OneDrive%20-%20Umich/Desktop/Master%27s/Pattern%20recognition%20and%20neural%20networks/Assignments/HW2/python-tutorial-1-10.ipynb#Y415sZmlsZQ%3D%3D?line=1'>2</a>\u001b[0m numbers \u001b[39m=\u001b[39m [\u001b[39m9\u001b[39m, \u001b[39m10\u001b[39m]\n\u001b[1;32m----> <a href='vscode-notebook-cell:/c%3A/Users/Lakshmidhar%20Kotipall/OneDrive%20-%20Umich/Desktop/Master%27s/Pattern%20recognition%20and%20neural%20networks/Assignments/HW2/python-tutorial-1-10.ipynb#Y415sZmlsZQ%3D%3D?line=2'>3</a>\u001b[0m new_scores \u001b[39m=\u001b[39m scores \u001b[39m-\u001b[39;49m numbers\n\u001b[0;32m      <a href='vscode-notebook-cell:/c%3A/Users/Lakshmidhar%20Kotipall/OneDrive%20-%20Umich/Desktop/Master%27s/Pattern%20recognition%20and%20neural%20networks/Assignments/HW2/python-tutorial-1-10.ipynb#Y415sZmlsZQ%3D%3D?line=4'>5</a>\u001b[0m \u001b[39mprint\u001b[39m(new_scores)\n",
      "\u001b[1;31mTypeError\u001b[0m: unsupported operand type(s) for -: 'set' and 'list'"
     ]
    }
   ],
   "source": [
    "scores = {7, 8, 9}\n",
    "numbers = [9, 10]\n",
    "new_scores = scores - numbers\n",
    "\n",
    "print(new_scores)\n"
   ]
  },
  {
   "cell_type": "code",
   "execution_count": 226,
   "id": "7e691b4d",
   "metadata": {},
   "outputs": [
    {
     "name": "stdout",
     "output_type": "stream",
     "text": [
      "{'Python', 'C#'}\n"
     ]
    }
   ],
   "source": [
    "s1 = {'Python', 'Java', 'C++'}\n",
    "s2 = {'C#', 'Java', 'C++'}\n",
    "\n",
    "s = s1.symmetric_difference(s2)\n",
    "\n",
    "print(s)\n"
   ]
  },
  {
   "cell_type": "code",
   "execution_count": 227,
   "id": "73b79a8c",
   "metadata": {},
   "outputs": [
    {
     "name": "stdout",
     "output_type": "stream",
     "text": [
      "{'Python', 'C#'}\n"
     ]
    }
   ],
   "source": [
    "s1 = {'Python', 'Java', 'C++'}\n",
    "s2 = {'C#', 'Java', 'C++'}\n",
    "\n",
    "s = s1 ^ s2\n",
    "\n",
    "print(s)"
   ]
  },
  {
   "cell_type": "code",
   "execution_count": 228,
   "id": "8e46ff40",
   "metadata": {},
   "outputs": [
    {
     "ename": "TypeError",
     "evalue": "unsupported operand type(s) for ^: 'set' and 'list'",
     "output_type": "error",
     "traceback": [
      "\u001b[1;31m---------------------------------------------------------------------------\u001b[0m",
      "\u001b[1;31mTypeError\u001b[0m                                 Traceback (most recent call last)",
      "\u001b[1;32mc:\\Users\\Lakshmidhar Kotipall\\OneDrive - Umich\\Desktop\\Master's\\Pattern recognition and neural networks\\Assignments\\HW2\\python-tutorial-1-10.ipynb Cell 212\u001b[0m line \u001b[0;36m<cell line: 3>\u001b[1;34m()\u001b[0m\n\u001b[0;32m      <a href='vscode-notebook-cell:/c%3A/Users/Lakshmidhar%20Kotipall/OneDrive%20-%20Umich/Desktop/Master%27s/Pattern%20recognition%20and%20neural%20networks/Assignments/HW2/python-tutorial-1-10.ipynb#Y421sZmlsZQ%3D%3D?line=0'>1</a>\u001b[0m scores \u001b[39m=\u001b[39m {\u001b[39m7\u001b[39m, \u001b[39m8\u001b[39m, \u001b[39m9\u001b[39m}\n\u001b[0;32m      <a href='vscode-notebook-cell:/c%3A/Users/Lakshmidhar%20Kotipall/OneDrive%20-%20Umich/Desktop/Master%27s/Pattern%20recognition%20and%20neural%20networks/Assignments/HW2/python-tutorial-1-10.ipynb#Y421sZmlsZQ%3D%3D?line=1'>2</a>\u001b[0m ratings \u001b[39m=\u001b[39m [\u001b[39m8\u001b[39m, \u001b[39m9\u001b[39m, \u001b[39m10\u001b[39m]\n\u001b[1;32m----> <a href='vscode-notebook-cell:/c%3A/Users/Lakshmidhar%20Kotipall/OneDrive%20-%20Umich/Desktop/Master%27s/Pattern%20recognition%20and%20neural%20networks/Assignments/HW2/python-tutorial-1-10.ipynb#Y421sZmlsZQ%3D%3D?line=2'>3</a>\u001b[0m new_set \u001b[39m=\u001b[39m scores \u001b[39m^\u001b[39;49m ratings\n\u001b[0;32m      <a href='vscode-notebook-cell:/c%3A/Users/Lakshmidhar%20Kotipall/OneDrive%20-%20Umich/Desktop/Master%27s/Pattern%20recognition%20and%20neural%20networks/Assignments/HW2/python-tutorial-1-10.ipynb#Y421sZmlsZQ%3D%3D?line=4'>5</a>\u001b[0m \u001b[39mprint\u001b[39m(new_set)\n",
      "\u001b[1;31mTypeError\u001b[0m: unsupported operand type(s) for ^: 'set' and 'list'"
     ]
    }
   ],
   "source": [
    "scores = {7, 8, 9}\n",
    "ratings = [8, 9, 10]\n",
    "new_set = scores ^ ratings\n",
    "\n",
    "print(new_set)"
   ]
  },
  {
   "cell_type": "code",
   "execution_count": 229,
   "id": "6f5c33ad",
   "metadata": {},
   "outputs": [
    {
     "name": "stdout",
     "output_type": "stream",
     "text": [
      "True\n"
     ]
    }
   ],
   "source": [
    "numbers = {1, 2, 3, 4, 5}\n",
    "scores = {1, 2, 3}\n",
    "\n",
    "print(scores.issubset(numbers))"
   ]
  },
  {
   "cell_type": "code",
   "execution_count": 230,
   "id": "a17e7a03",
   "metadata": {},
   "outputs": [
    {
     "name": "stdout",
     "output_type": "stream",
     "text": [
      "True\n"
     ]
    }
   ],
   "source": [
    "numbers = {1, 2, 3, 4, 5}\n",
    "\n",
    "print(numbers.issubset(numbers))"
   ]
  },
  {
   "cell_type": "code",
   "execution_count": 231,
   "id": "f4f9ccc9",
   "metadata": {},
   "outputs": [
    {
     "name": "stdout",
     "output_type": "stream",
     "text": [
      "True\n",
      "True\n"
     ]
    }
   ],
   "source": [
    "numbers = {1, 2, 3, 4, 5}\n",
    "scores = {1, 2, 3}\n",
    "\n",
    "result = scores <= numbers\n",
    "print(result)  \n",
    "\n",
    "result = numbers <= numbers\n",
    "print(result)  "
   ]
  },
  {
   "cell_type": "code",
   "execution_count": 232,
   "id": "bfa71112",
   "metadata": {},
   "outputs": [
    {
     "name": "stdout",
     "output_type": "stream",
     "text": [
      "True\n"
     ]
    }
   ],
   "source": [
    "numbers = {1, 2, 3, 4, 5}\n",
    "scores = {1, 2, 3}\n",
    "\n",
    "result = numbers.issuperset(scores)\n",
    "\n",
    "print(result)"
   ]
  },
  {
   "cell_type": "code",
   "execution_count": 233,
   "id": "14fb1f85",
   "metadata": {},
   "outputs": [
    {
     "name": "stdout",
     "output_type": "stream",
     "text": [
      "False\n"
     ]
    }
   ],
   "source": [
    "numbers = {1, 2, 3, 4, 5}\n",
    "scores = {1, 2, 3}\n",
    "\n",
    "result = scores.issuperset(numbers)\n",
    "\n",
    "print(result)"
   ]
  },
  {
   "cell_type": "code",
   "execution_count": 234,
   "id": "7144f7a6",
   "metadata": {},
   "outputs": [
    {
     "name": "stdout",
     "output_type": "stream",
     "text": [
      "True\n",
      "False\n"
     ]
    }
   ],
   "source": [
    "numbers = {1, 2, 3, 4, 5}\n",
    "scores = {1, 2, 3}\n",
    "\n",
    "result = numbers > scores\n",
    "print(result)  \n",
    "\n",
    "result = numbers > numbers\n",
    "print(result) "
   ]
  },
  {
   "cell_type": "code",
   "execution_count": 235,
   "id": "e927a67f",
   "metadata": {},
   "outputs": [
    {
     "name": "stdout",
     "output_type": "stream",
     "text": [
      "True\n"
     ]
    }
   ],
   "source": [
    "odd_numbers = {1, 3, 5}\n",
    "even_numbers = {2, 4, 6}\n",
    "\n",
    "result = odd_numbers.isdisjoint(even_numbers)\n",
    "\n",
    "print(result)\n"
   ]
  },
  {
   "cell_type": "code",
   "execution_count": 236,
   "id": "aadf872d",
   "metadata": {},
   "outputs": [
    {
     "name": "stdout",
     "output_type": "stream",
     "text": [
      "True\n"
     ]
    }
   ],
   "source": [
    "letters = {'A', 'B', 'C'}\n",
    "result = letters.isdisjoint([1, 2, 3])\n",
    "\n",
    "print(result)"
   ]
  },
  {
   "cell_type": "code",
   "execution_count": 237,
   "id": "b2ef738c",
   "metadata": {},
   "outputs": [
    {
     "name": "stdout",
     "output_type": "stream",
     "text": [
      "john not found!\n"
     ]
    }
   ],
   "source": [
    "people = [{'name': 'John', 'age': 25},\n",
    "        {'name': 'Jane', 'age': 22},\n",
    "        {'name': 'Peter', 'age': 30},\n",
    "        {'name': 'Jenifer', 'age': 28}]\n",
    "\n",
    "name = input('Enter a name:')\n",
    "\n",
    "found = False\n",
    "for person in people:\n",
    "    if person['name'] == name:\n",
    "        found = True\n",
    "        print(person)\n",
    "        break\n",
    "\n",
    "if not found:\n",
    "    print(f'{name} not found!')\n"
   ]
  },
  {
   "cell_type": "code",
   "execution_count": 238,
   "id": "34e54511",
   "metadata": {},
   "outputs": [
    {
     "name": "stdout",
     "output_type": "stream",
     "text": [
      "The basket has 20 apple(s)\n"
     ]
    }
   ],
   "source": [
    "basket = [\n",
    "    {'fruit': 'apple', 'qty': 20},\n",
    "    {'fruit': 'banana', 'qty': 30},\n",
    "    {'fruit': 'orange', 'qty': 10}\n",
    "]\n",
    "\n",
    "fruit = input('Enter a fruit:')\n",
    "\n",
    "index = 0\n",
    "found_it = False\n",
    "\n",
    "while index < len(basket):\n",
    "    item = basket[index]\n",
    "    if item['fruit'] == fruit:\n",
    "        found_it = True\n",
    "        print(f\"The basket has {item['qty']} {item['fruit']}(s)\")\n",
    "        break\n",
    "\n",
    "    index += 1\n",
    "\n",
    "if not found_it:\n",
    "    qty = int(input(f'Enter the qty for {fruit}:'))\n",
    "    basket.append({'fruit': fruit, 'qty': qty})\n",
    "    print(basket)"
   ]
  },
  {
   "cell_type": "code",
   "execution_count": 239,
   "id": "8fc81260",
   "metadata": {},
   "outputs": [
    {
     "name": "stdout",
     "output_type": "stream",
     "text": [
      "It should be bigger.\n",
      "It should be bigger.\n",
      "It should be smaller.\n",
      "Bingo! 4 attempt(s)\n"
     ]
    }
   ],
   "source": [
    "from random import randint\n",
    "\n",
    "MIN = 0\n",
    "MAX = 10\n",
    "\n",
    "secret_number = randint(MIN, MAX)\n",
    "\n",
    "attempt = 0\n",
    "\n",
    "input_number = int(input(f'Enter a number between {MIN} and {MAX}:'))\n",
    "attempt += 1\n",
    "\n",
    "if input_number > secret_number:\n",
    "    print('It should be smaller.')\n",
    "elif input_number < secret_number:\n",
    "    print('It should be bigger.')\n",
    "else:\n",
    "    print(f'Bingo! {attempt} attempt(s)')\n",
    "\n",
    "while input_number != secret_number:\n",
    "\n",
    "    input_number = int(input(f'Enter a number between {MIN} and {MAX}:'))\n",
    "    attempt += 1\n",
    "\n",
    "    if input_number > secret_number:\n",
    "        print('It should be smaller.')\n",
    "    elif input_number < secret_number:\n",
    "        print('It should be bigger.')\n",
    "    else:\n",
    "        print(f'Bingo! {attempt} attempt(s)')\n"
   ]
  },
  {
   "cell_type": "code",
   "execution_count": 240,
   "id": "b1ecd5cd",
   "metadata": {},
   "outputs": [
    {
     "name": "stdout",
     "output_type": "stream",
     "text": [
      "x=10, y=20\n",
      "x=20, y=10\n"
     ]
    }
   ],
   "source": [
    "x = 10\n",
    "y = 20\n",
    "\n",
    "print(f'x={x}, y={y}')\n",
    "\n",
    "tmp = x\n",
    "x = y\n",
    "y = tmp\n",
    "\n",
    "print(f'x={x}, y={y}')"
   ]
  },
  {
   "cell_type": "code",
   "execution_count": 241,
   "id": "c9bb0b26",
   "metadata": {},
   "outputs": [
    {
     "name": "stdout",
     "output_type": "stream",
     "text": [
      "10\n",
      "20\n",
      "[30, 40]\n"
     ]
    }
   ],
   "source": [
    "x, y, *z = 10, 20, 30, 40\n",
    "\n",
    "print(x)\n",
    "print(y)\n",
    "print(z)\n"
   ]
  },
  {
   "cell_type": "code",
   "execution_count": 242,
   "id": "5b9c7779",
   "metadata": {},
   "outputs": [
    {
     "name": "stdout",
     "output_type": "stream",
     "text": [
      "1\n",
      "2\n",
      "3\n"
     ]
    }
   ],
   "source": [
    "def add(*args):\n",
    "    print(args[0])\n",
    "    print(args[1])\n",
    "    print(args[2])\n",
    "\n",
    "\n",
    "add(1, 2, 3)"
   ]
  },
  {
   "cell_type": "code",
   "execution_count": 243,
   "id": "a0037e66",
   "metadata": {},
   "outputs": [
    {
     "name": "stdout",
     "output_type": "stream",
     "text": [
      "20\n"
     ]
    }
   ],
   "source": [
    "def multiply(a, b):\n",
    "    return a*b\n",
    "\n",
    "\n",
    "def double(a):\n",
    "    return multiply(a, 2)\n",
    "\n",
    "\n",
    "result = double(10)\n",
    "print(result)  "
   ]
  },
  {
   "cell_type": "code",
   "execution_count": 244,
   "id": "355857a9",
   "metadata": {},
   "outputs": [
    {
     "name": "stdout",
     "output_type": "stream",
     "text": [
      "Hi Lucky\n"
     ]
    }
   ],
   "source": [
    "def say_hi(name):\n",
    "    return f'Hi {name}'\n",
    "\n",
    "\n",
    "greeting = say_hi('Lucky')\n",
    "print(greeting)"
   ]
  },
  {
   "cell_type": "code",
   "execution_count": null,
   "id": "83df6e4f",
   "metadata": {},
   "outputs": [],
   "source": []
  }
 ],
 "metadata": {
  "kernelspec": {
   "display_name": "Python 3 (ipykernel)",
   "language": "python",
   "name": "python3"
  },
  "language_info": {
   "codemirror_mode": {
    "name": "ipython",
    "version": 3
   },
   "file_extension": ".py",
   "mimetype": "text/x-python",
   "name": "python",
   "nbconvert_exporter": "python",
   "pygments_lexer": "ipython3",
   "version": "3.9.12"
  }
 },
 "nbformat": 4,
 "nbformat_minor": 5
}
